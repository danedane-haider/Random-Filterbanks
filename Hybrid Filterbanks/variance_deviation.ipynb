{
 "cells": [
  {
   "cell_type": "code",
   "execution_count": 1,
   "metadata": {},
   "outputs": [],
   "source": [
    "import numpy as np\n",
    "import matplotlib.pyplot as plt\n",
    "import librosa\n",
    "from IPython.display import Audio\n",
    "import fb_utils as fb\n",
    "import importlib"
   ]
  },
  {
   "cell_type": "code",
   "execution_count": 16,
   "metadata": {},
   "outputs": [],
   "source": [
    "# set parameters\n",
    "\n",
    "# signal length\n",
    "N = 1024\n",
    "# filter lengths\n",
    "T_vals = 2**np.arange(3,10)\n",
    "# number of filters\n",
    "J = 256\n",
    "# quantile\n",
    "p = 0.05"
   ]
  },
  {
   "cell_type": "code",
   "execution_count": 17,
   "metadata": {},
   "outputs": [
    {
     "data": {
      "text/plain": [
       "((256, 512), (0.999999999999997, 1.000000000000002))"
      ]
     },
     "execution_count": 17,
     "metadata": {},
     "output_type": "execute_result"
    }
   ],
   "source": [
    "# load filters\n",
    "Psi = np.load('filters/aud_512.npy')\n",
    "Psi = Psi.real\n",
    "Psi.shape, fb.frame_bounds(Psi)"
   ]
  },
  {
   "cell_type": "code",
   "execution_count": 18,
   "metadata": {},
   "outputs": [],
   "source": [
    "# artificial signals\n",
    "\n",
    "# impulse\n",
    "x_impulse = np.zeros(N)\n",
    "x_impulse[513] = 1\n",
    "x_impulse = x_impulse/np.linalg.norm(x_impulse)\n",
    "\n",
    "# brownian noise\n",
    "x_rand = fb.brownian_noise(N,0.15)\n",
    "x_rand = x_rand/np.linalg.norm(x_rand)\n",
    "\n",
    "# sine\n",
    "x_sine = (-np.ones(N)**np.arange(N))/np.sqrt(N)\n",
    "x_sine = x_sine/np.linalg.norm(x_sine)\n",
    "\n",
    "xs = [x_impulse, x_rand, x_sine]"
   ]
  },
  {
   "cell_type": "code",
   "execution_count": 19,
   "metadata": {},
   "outputs": [],
   "source": [
    "plt.rcParams.update({\n",
    "    'font.size': 10,\n",
    "    'text.usetex': True,\n",
    "    'text.latex.preamble': r'\\usepackage{amsfonts}'\n",
    "})\n",
    "plt.rcParams[\"font.family\"] = \"Times New Roman\""
   ]
  },
  {
   "cell_type": "code",
   "execution_count": 59,
   "metadata": {},
   "outputs": [
    {
     "data": {
      "text/plain": [
       "<module 'fb_utils' from '/Users/Dane/GitHub/Random-Filterbanks/Hybrid Filterbanks/fb_utils.py'>"
      ]
     },
     "execution_count": 59,
     "metadata": {},
     "output_type": "execute_result"
    }
   ],
   "source": [
    "importlib.reload(fb)"
   ]
  },
  {
   "cell_type": "code",
   "execution_count": 60,
   "metadata": {},
   "outputs": [],
   "source": [
    "w = np.random.randn(256, 512)/np.sqrt(512)\n",
    "w_pad = np.pad(w, ((0,0),(0, 1024-512)), constant_values=0)\n",
    "Psi_pad = np.pad(Psi, ((0,0),(0, 1024-512)), constant_values=0)"
   ]
  },
  {
   "cell_type": "code",
   "execution_count": 61,
   "metadata": {},
   "outputs": [
    {
     "name": "stdout",
     "output_type": "stream",
     "text": [
      "1.047500998520893\n"
     ]
    }
   ],
   "source": [
    "y = 0\n",
    "for ii in range(J):\n",
    "    y += np.linalg.norm(np.fft.ifft(np.fft.fft(x_impulse) * np.fft.fft(Psi_pad)[ii,:] * np.fft.fft(w_pad)[ii,:]))**2\n",
    "print(y)"
   ]
  },
  {
   "cell_type": "code",
   "execution_count": 72,
   "metadata": {},
   "outputs": [
    {
     "data": {
      "text/plain": [
       "1.0194905619050654"
      ]
     },
     "execution_count": 72,
     "metadata": {},
     "output_type": "execute_result"
    }
   ],
   "source": [
    "fb.random_hybrid_filterbank_energy(x_impulse, Psi, 1024, 1024)"
   ]
  },
  {
   "cell_type": "code",
   "execution_count": 75,
   "metadata": {},
   "outputs": [],
   "source": [
    "J = 256\n",
    "T = [16]\n",
    "num = 500\n",
    "\n",
    "Y = np.zeros((3, num))\n",
    "\n",
    "for x_id, x in enumerate(xs):\n",
    "    Y[x_id,:] = fb.random_filterbank_experiment(x, Psi, N, T, num)"
   ]
  },
  {
   "cell_type": "code",
   "execution_count": 76,
   "metadata": {},
   "outputs": [
    {
     "data": {
      "image/png": "[encoded data removed]",
      "text/plain": [
       "<Figure size 800x150 with 3 Axes>"
      ]
     },
     "metadata": {},
     "output_type": "display_data"
    }
   ],
   "source": [
    "titles = ['impulse', 'brown', 'sine']\n",
    "fig, axes = plt.subplots(nrows=1, ncols=3, figsize=(8, 1.5), sharey='row')\n",
    "\n",
    "for x_id, x in enumerate(xs):\n",
    "    ax = axes[x_id]\n",
    "    ax.hist(Y[x_id,:], range=[0.25,1.75], bins=75, density=True, alpha=0.8)\n",
    "    ax.axvline(1, color = 'black', label = 'axvline - full height', alpha=0.8, linewidth=1, linestyle='--')\n",
    "    ax.set_yticks([])\n",
    "    ax.set_xlim(0.25, 1.75)\n",
    "\n",
    "    axes[0].set_ylabel('$\\Vert \\Phi x \\Vert^2$', rotation='horizontal', labelpad=16)\n",
    "\n",
    "plt.tight_layout()\n",
    "\n",
    "#plt.savefig('plots/energy.pdf', bbox_inches='tight')"
   ]
  },
  {
   "cell_type": "code",
   "execution_count": 100,
   "metadata": {},
   "outputs": [],
   "source": [
    "# real world examples\n",
    "\n",
    "# snare\n",
    "\n",
    "drums_full = librosa.load('signals/snare.wav')\n",
    "drums = drums_full[0][:22050]\n",
    "drums[15000:] = 0\n",
    "drums = drums/np.linalg.norm(drums)\n",
    "\n",
    "# speech\n",
    "\n",
    "speech_full = librosa.load('signals/speech.wav')\n",
    "speech = speech_full[0][:22050]\n",
    "speech= speech/np.linalg.norm(speech)\n",
    "\n",
    "# flute\n",
    "\n",
    "flute_full = librosa.load('signals/flute.wav')\n",
    "flute = flute_full[0][1000:1000+22050]\n",
    "flute = flute/np.linalg.norm(flute)\n",
    "\n",
    "xs_real = [drums, speech, flute]\n",
    "N_real = drums.shape[0]"
   ]
  },
  {
   "cell_type": "code",
   "execution_count": 102,
   "metadata": {},
   "outputs": [],
   "source": [
    "J = 256\n",
    "T = [512]\n",
    "num = 1000\n",
    "\n",
    "Y = np.zeros((3, num))\n",
    "\n",
    "for x_id, x in enumerate(xs_real):\n",
    "    Y[x_id,:] = fb.random_filterbank_experiment(x, Psi, N_real, T, num)"
   ]
  },
  {
   "cell_type": "code",
   "execution_count": 103,
   "metadata": {},
   "outputs": [
    {
     "data": {
      "image/png": "[encoded data removed]",
      "text/plain": [
       "<Figure size 800x150 with 3 Axes>"
      ]
     },
     "metadata": {},
     "output_type": "display_data"
    }
   ],
   "source": [
    "titles = ['snare', 'speech', 'flute']\n",
    "fig, axes = plt.subplots(nrows=1, ncols=3, figsize=(8, 1.5), sharey='row')\n",
    "\n",
    "for x_id, x in enumerate(xs_real):\n",
    "    ax = axes[x_id]\n",
    "    ax.hist(Y[x_id,:], range=[0.25,1.75], bins=75, density=True, alpha=0.8)\n",
    "    ax.axvline(1, color = 'black', label = 'axvline - full height', alpha=0.8, linewidth=1, linestyle='--')\n",
    "    ax.set_yticks([])\n",
    "    ax.set_xlim(0.25, 1.75)\n",
    "\n",
    "    axes[0].set_ylabel('$\\Vert \\Phi x \\Vert^2$', rotation='horizontal', labelpad=16)\n",
    "\n",
    "plt.tight_layout()\n",
    "\n",
    "#plt.savefig('plots/energy.pdf', bbox_inches='tight')"
   ]
  },
  {
   "cell_type": "code",
   "execution_count": null,
   "metadata": {},
   "outputs": [],
   "source": []
  }
 ],
 "metadata": {
  "kernelspec": {
   "display_name": "alpharect",
   "language": "python",
   "name": "python3"
  },
  "language_info": {
   "codemirror_mode": {
    "name": "ipython",
    "version": 3
   },
   "file_extension": ".py",
   "mimetype": "text/x-python",
   "name": "python",
   "nbconvert_exporter": "python",
   "pygments_lexer": "ipython3",
   "version": "3.8.16"
  },
  "orig_nbformat": 4,
  "vscode": {
   "interpreter": {
    "hash": "69599b8b230edd595963a4c28761c9972651de0c85749bedb88c2c1597573974"
   }
  }
 },
 "nbformat": 4,
 "nbformat_minor": 2
}
