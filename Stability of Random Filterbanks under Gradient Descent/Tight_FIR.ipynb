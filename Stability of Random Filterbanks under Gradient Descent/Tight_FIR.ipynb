{
 "cells": [
  {
   "cell_type": "code",
   "execution_count": 97,
   "metadata": {},
   "outputs": [],
   "source": [
    "import numpy as np\n",
    "import scipy as sp\n",
    "from scipy.linalg import sqrtm\n",
    "import matplotlib.pyplot as plt\n",
    "import torch\n",
    "import fb_utils as fb\n",
    "import time"
   ]
  },
  {
   "cell_type": "code",
   "execution_count": 87,
   "metadata": {},
   "outputs": [],
   "source": [
    "def tight(w, ver='poly'):\n",
    "    if ver == 'poly':\n",
    "        M, N = w.shape\n",
    "        w_freqz = np.fft.fft(w,axis=1).T\n",
    "        w_tight = np.zeros((M, N), dtype=np.complex64)\n",
    "        for k in range(N):\n",
    "            H = w_freqz[k, :]\n",
    "            U = H / np.linalg.norm(H)\n",
    "            w_tight[:,k] = np.conj(U)\n",
    "        w_tight = np.fft.ifft(w_tight.T, axis=0).T\n",
    "    else:\n",
    "        W = np.concatenate([sp.linalg.circulant(w[k, :]) for k in range(w.shape[0])])\n",
    "        S = np.matmul(W.T,W)\n",
    "        S_sq = np.linalg.inv(sp.linalg.sqrtm(S))\n",
    "        w_tight = np.matmul(S_sq,w.T).T\n",
    "    return w_tight"
   ]
  },
  {
   "cell_type": "code",
   "execution_count": 109,
   "metadata": {},
   "outputs": [],
   "source": [
    "def fir_tightener3000(w, supp, eps=1.1, print_kappa=False):\n",
    "    A,B = fb.frame_bounds_lp(w)\n",
    "    w_tight = w.copy()\n",
    "    while B/A > eps:\n",
    "        w_tight = tight(w_tight, ver='poly')\n",
    "        w_tight[:,supp:] = 0\n",
    "        w_tight = np.real(w_tight)\n",
    "        A,B = fb.frame_bounds_lp(w_tight)\n",
    "        if print_kappa:\n",
    "            print('kappa:', B/A, 'error:', np.linalg.norm(w-w_tight))\n",
    "    return w_tight"
   ]
  },
  {
   "cell_type": "code",
   "execution_count": 110,
   "metadata": {},
   "outputs": [],
   "source": [
    "T = 1024\n",
    "w = fb.random_filterbank(4096, 96, T, tight=False, support_only=False, to_torch=False)\n",
    "\n",
    "w_tight = fir_tightener3000(w, T, eps=1.001)\n"
   ]
  },
  {
   "cell_type": "code",
   "execution_count": null,
   "metadata": {},
   "outputs": [],
   "source": []
  }
 ],
 "metadata": {
  "kernelspec": {
   "display_name": "alpharect",
   "language": "python",
   "name": "python3"
  },
  "language_info": {
   "codemirror_mode": {
    "name": "ipython",
    "version": 3
   },
   "file_extension": ".py",
   "mimetype": "text/x-python",
   "name": "python",
   "nbconvert_exporter": "python",
   "pygments_lexer": "ipython3",
   "version": "3.8.16"
  },
  "orig_nbformat": 4,
  "vscode": {
   "interpreter": {
    "hash": "69599b8b230edd595963a4c28761c9972651de0c85749bedb88c2c1597573974"
   }
  }
 },
 "nbformat": 4,
 "nbformat_minor": 2
}
