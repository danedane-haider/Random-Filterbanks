{
 "cells": [
  {
   "cell_type": "code",
   "execution_count": null,
   "metadata": {},
   "outputs": [],
   "source": [
    "import numpy as np\n",
    "import matplotlib\n",
    "%matplotlib inline\n",
    "from matplotlib import pyplot as plt"
   ]
  },
  {
   "cell_type": "code",
   "execution_count": null,
   "metadata": {},
   "outputs": [],
   "source": [
    "dir = ''\n",
    "\n",
    "losses_kappa_synth = np.load(dir+'losses_kappa_synth.npy')\n",
    "losses_kappa_speech = np.load(dir+'losses_kappa_speech.npy')\n",
    "losses_kappa_music = np.load(dir+'losses_kappa_music.npy')\n",
    "losses_no_synth = np.load(dir+'losses_no_synth.npy')\n",
    "losses_no_speech = np.load(dir+'losses_no_speech.npy')\n",
    "losses_no_music = np.load(dir+'losses_no_music.npy')\n",
    "cond_kappa_synth = np.load(dir+'conditions_kappa_synth.npy')\n",
    "cond_kappa_speech = np.load(dir+'conditions_kappa_speech.npy')\n",
    "cond_kappa_music = np.load(dir+'conditions_kappa_music.npy')\n",
    "cond_no_synth = np.load(dir+'conditions_no_synth.npy')\n",
    "cond_no_speech = np.load(dir+'conditions_no_speech.npy')\n",
    "cond_no_music = np.load(dir+'conditions_no_music.npy')\n",
    "\n",
    "n_epochs = 100"
   ]
  },
  {
   "cell_type": "code",
   "execution_count": null,
   "metadata": {},
   "outputs": [],
   "source": [
    "# plot losses and condition numbers over epochs\n",
    "\n",
    "plt.rcParams['text.usetex'] = False\n",
    "\n",
    "fig, axes = plt.subplots(2, 1, figsize=(6, 4), sharex=True)\n",
    "Ts = np.arange(0, n_epochs+1)\n",
    "\n",
    "ax = axes[0]\n",
    "ax.plot(Ts, losses_no_synth, 'tab:blue', linewidth=2)\n",
    "ax.plot(Ts, losses_kappa_synth, 'tab:green', linewidth=2)\n",
    "\n",
    "ax.set_title('CQT Losses')\n",
    "ax.grid(linestyle='--', alpha=0.5)\n",
    "\n",
    "ax = axes[1]\n",
    "ax.plot(Ts, cond_no_synth, 'tab:blue', linewidth=2, label='$P(\\Phi)=0$')\n",
    "ax.plot(Ts, cond_kappa_synth, 'tab:green', linewidth=2, label='$P(\\Phi)=\\kappa$')\n",
    "ax.plot(Ts, np.ones(len(Ts)), 'tab:red', linewidth=2, label='Tight CQT', linestyle='--')\n",
    "\n",
    "ax.set_title('Condition numbers')\n",
    "ax.set_xlabel('Epochs')\n",
    "axes[0].legend(loc='upper right')\n",
    "ax.grid(linestyle='--', alpha=0.5)\n",
    "\n",
    "plt.tight_layout()\n",
    "\n",
    "plt.savefig('Fitting_CQT.pdf', bbox_inches='tight')"
   ]
  },
  {
   "cell_type": "code",
   "execution_count": null,
   "metadata": {},
   "outputs": [],
   "source": [
    "# plot losses and condition numbers over epochs\n",
    "\n",
    "plt.rcParams['text.usetex'] = False\n",
    "\n",
    "fig, axes = plt.subplots(2, 1, figsize=(6, 4), sharex=True)\n",
    "Ts = np.arange(0, n_epochs+1)\n",
    "\n",
    "ax = axes[0]\n",
    "ax.plot(Ts, losses_no_speech, 'tab:blue', linewidth=2)\n",
    "ax.plot(Ts, losses_kappa_speech, 'tab:green', linewidth=2)\n",
    "\n",
    "ax.set_title('Audlet Losses')\n",
    "ax.grid(linestyle='--', alpha=0.5)\n",
    "\n",
    "ax = axes[1]\n",
    "ax.plot(Ts, cond_no_speech, 'tab:blue', linewidth=2, label='$P(\\Phi)=0$')\n",
    "ax.plot(Ts, cond_kappa_speech, 'tab:green', linewidth=2, label='$P(\\Phi)=\\kappa$')\n",
    "ax.plot(Ts, np.ones(len(Ts)), 'tab:red', linewidth=2, label='Tight Audlet', linestyle='--')\n",
    "\n",
    "ax.set_title('Condition numbers')\n",
    "ax.set_xlabel('Epochs')\n",
    "axes[0].legend(loc='upper right')\n",
    "ax.grid(linestyle='--', alpha=0.5)\n",
    "\n",
    "plt.tight_layout()\n",
    "\n",
    "plt.savefig('Fitting_MEL.pdf', bbox_inches='tight')"
   ]
  },
  {
   "cell_type": "code",
   "execution_count": null,
   "metadata": {},
   "outputs": [],
   "source": [
    "# plot losses and condition numbers over epochs\n",
    "\n",
    "plt.rcParams['text.usetex'] = False\n",
    "\n",
    "fig, axes = plt.subplots(2, 1, figsize=(6, 4), sharex=True)\n",
    "Ts = np.arange(0, n_epochs+1)\n",
    "\n",
    "ax = axes[0]\n",
    "ax.plot(Ts, losses_no_music, 'tab:blue', linewidth=2)\n",
    "ax.plot(Ts, losses_kappa_music, 'tab:green', linewidth=2)\n",
    "\n",
    "ax.set_title('VQT Losses')\n",
    "ax.grid(linestyle='--', alpha=0.5)\n",
    "\n",
    "ax = axes[1]\n",
    "ax.plot(Ts, cond_no_music, 'tab:blue', linewidth=2, label='$P(\\Phi)=0$')\n",
    "ax.plot(Ts, cond_kappa_music, 'tab:green', linewidth=2, label='$P(\\Phi)=\\kappa$')\n",
    "ax.plot(Ts, np.ones(len(Ts)), 'tab:red', linewidth=2, label='Tight VQT', linestyle='--')\n",
    "\n",
    "ax.set_title('Condition numbers')\n",
    "ax.set_xlabel('Epochs')\n",
    "axes[0].legend(loc='upper right')\n",
    "ax.grid(linestyle='--', alpha=0.5)\n",
    "\n",
    "plt.tight_layout()\n",
    "\n",
    "plt.savefig('Fitting_VQT.pdf', bbox_inches='tight')"
   ]
  }
 ],
 "metadata": {
  "kernelspec": {
   "display_name": "alpharect",
   "language": "python",
   "name": "python3"
  },
  "language_info": {
   "name": "python",
   "version": "3.8.16 | packaged by conda-forge | (default, Feb  1 2023, 16:05:36) \n[Clang 14.0.6 ]"
  },
  "orig_nbformat": 4,
  "vscode": {
   "interpreter": {
    "hash": "69599b8b230edd595963a4c28761c9972651de0c85749bedb88c2c1597573974"
   }
  }
 },
 "nbformat": 4,
 "nbformat_minor": 2
}
