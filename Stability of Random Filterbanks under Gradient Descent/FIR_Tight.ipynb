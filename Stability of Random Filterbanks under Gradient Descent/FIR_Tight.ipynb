{
 "cells": [
  {
   "cell_type": "code",
   "execution_count": 1,
   "metadata": {},
   "outputs": [],
   "source": [
    "import numpy as np\n",
    "import scipy.signal\n",
    "import torch\n",
    "import matplotlib\n",
    "%matplotlib inline\n",
    "from matplotlib import pyplot as plt\n",
    "from collections import Counter\n",
    "import torchaudio\n",
    "import itertools\n",
    "import tqdm\n",
    "import torch.nn.functional as F\n",
    "import scipy as sp\n",
    "import torch.nn as nn\n",
    "import fb"
   ]
  },
  {
   "cell_type": "code",
   "execution_count": 2,
   "metadata": {},
   "outputs": [],
   "source": [
    "HYPERPARAMS = {\n",
    "    \"synth\": {\n",
    "        \"N\": 1032,\n",
    "        \"J\": 58,\n",
    "        \"T\": 512,\n",
    "        \"sr\": 16000,\n",
    "        \"fmin\": 64,\n",
    "        \"fmax\": 8000,\n",
    "        \"batch_size\": 32\n",
    "    },\n",
    "}\n",
    "\n",
    "spec = HYPERPARAMS[\"synth\"]"
   ]
  },
  {
   "cell_type": "code",
   "execution_count": 3,
   "metadata": {},
   "outputs": [],
   "source": [
    "# create a random filterbank and its tightened version\n",
    "\n",
    "w_init, w_tight = fb.random_filterbank(spec[\"N\"], spec[\"J\"], spec[\"T\"], tight=True, to_torch=True)"
   ]
  },
  {
   "cell_type": "code",
   "execution_count": 4,
   "metadata": {},
   "outputs": [],
   "source": [
    "# noise generator\n",
    "\n",
    "def generate_noise(length, batch_size):\n",
    "    while True:\n",
    "        yield torch.rand(batch_size,length)"
   ]
  },
  {
   "cell_type": "code",
   "execution_count": 5,
   "metadata": {},
   "outputs": [],
   "source": [
    "noise = generate_noise(spec[\"N\"], spec[\"batch_size\"])"
   ]
  },
  {
   "cell_type": "code",
   "execution_count": 6,
   "metadata": {},
   "outputs": [
    {
     "name": "stdout",
     "output_type": "stream",
     "text": [
      "TDFilterbank_real(\n",
      "  (psi): Conv1d(1, 58, kernel_size=(512,), stride=(1,), bias=False)\n",
      ")\n"
     ]
    }
   ],
   "source": [
    "# conv1D layer with circulant boundary conditions\n",
    "\n",
    "class TDFilterbank_real(torch.nn.Module):\n",
    "    def __init__(self, spec, w):\n",
    "        super().__init__()\n",
    "        \n",
    "        self.psi = torch.nn.Conv1d(\n",
    "            in_channels=1,\n",
    "            out_channels=spec[\"J\"],\n",
    "            kernel_size=spec[\"T\"],\n",
    "            stride=1,\n",
    "            padding=0,\n",
    "            bias=False)\n",
    "        \n",
    "        # initialize the filters to be w_init\n",
    "        self.psi.weight.data = w[:, :spec[\"T\"]].unsqueeze(1).float()\n",
    "    \n",
    "    def forward(self, x):\n",
    "        x = x.reshape(x.shape[0], 1, x.shape[-1])\n",
    "        x = F.pad(x, (0, spec[\"T\"]-1), mode='circular',)\n",
    "        Wx = self.psi(x)\n",
    "        #Ux = torch.abs(Wx)\n",
    "        return Wx\n",
    "    \n",
    "baseline = TDFilterbank_real(spec, w_init)\n",
    "print(baseline)"
   ]
  },
  {
   "cell_type": "code",
   "execution_count": 27,
   "metadata": {},
   "outputs": [],
   "source": [
    "# penalizing large kappa\n",
    "\n",
    "class KappaLoss(nn.Module):\n",
    "    def __init__(self):\n",
    "        super(KappaLoss, self).__init__()\n",
    "        self.loss = nn.MSELoss()\n",
    "\n",
    "    def forward(self, inputs, targets, w, beta):\n",
    "        w = torch.cat((w,torch.zeros([spec[\"J\"], spec[\"N\"]-spec[\"T\"]])),dim=1)\n",
    "        w_hat = torch.sum(torch.abs(torch.fft.fft(w,dim=1))**2,dim=0)\n",
    "        Lam_max = torch.max(w_hat,dim=0).values\n",
    "        Lam_min = torch.min(w_hat,dim=0).values\n",
    "        #loss = 0.1*torch.mean(self.loss(inputs, targets)) + beta*Lam_max/Lam_min\n",
    "        loss = Lam_max/Lam_min\n",
    "        return loss"
   ]
  },
  {
   "cell_type": "code",
   "execution_count": 28,
   "metadata": {},
   "outputs": [],
   "source": [
    "# training function\n",
    "\n",
    "def train(baseline, lr, beta, n_epochs, epoch_size):\n",
    "    optimizer = torch.optim.SGD(baseline.parameters(), lr=lr)\n",
    "    mse = torch.nn.MSELoss()\n",
    "    criterion = KappaLoss() \n",
    "    losses = []\n",
    "    conditions = []\n",
    "\n",
    "    w = baseline.psi.weight.detach().numpy()[:,0,:]\n",
    "    w = np.concatenate((w,np.zeros([spec[\"J\"], spec[\"N\"]-spec[\"T\"]])),axis=1)\n",
    "    A,B = fb.frame_bounds_lp(w)\n",
    "    conditions.append(B/A)\n",
    "\n",
    "    running_loss = 0.0\n",
    "    for _ in range(epoch_size):\n",
    "        inputs = next(noise)\n",
    "        outputs = baseline(inputs)\n",
    "        targets = fb.filterbank_response(inputs, w_tight, mag=False)\n",
    "        w = baseline.psi.weight[:,0,:]\n",
    "        loss = mse(outputs, targets)\n",
    "        running_loss += loss.item()\n",
    "    print(1000 * running_loss)\n",
    "    losses.append(running_loss)\n",
    "\n",
    "    for _ in range(n_epochs):\n",
    "        running_loss = 0.0\n",
    "        for i in tqdm.tqdm(range(epoch_size)):\n",
    "            inputs = next(noise)\n",
    "            optimizer.zero_grad()\n",
    "            outputs = baseline(inputs)\n",
    "            targets = fb.filterbank_response(inputs, w_tight, mag=False)\n",
    "            w = baseline.psi.weight[:,0,:]\n",
    "            loss = criterion(outputs, targets, w, beta)\n",
    "            loss.backward()\n",
    "            optimizer.step()\n",
    "            loss2 = mse(outputs, targets)\n",
    "            running_loss += loss2.item()\n",
    "        losses.append(running_loss)\n",
    "        w = baseline.psi.weight.detach().numpy()[:,0,:]\n",
    "        w = np.concatenate((w,np.zeros([spec[\"J\"], spec[\"N\"]-spec[\"T\"]])),axis=1)\n",
    "        A,B = fb.frame_bounds_lp(w)\n",
    "        conditions.append(B/A)\n",
    "        print(1000 * running_loss)\n",
    "\n",
    "    return losses, conditions"
   ]
  },
  {
   "cell_type": "code",
   "execution_count": 29,
   "metadata": {},
   "outputs": [],
   "source": [
    "n_epochs = 10\n",
    "epoch_size = 50\n",
    "lr = 0.0001\n",
    "beta = 0.01"
   ]
  },
  {
   "cell_type": "code",
   "execution_count": 30,
   "metadata": {},
   "outputs": [
    {
     "name": "stdout",
     "output_type": "stream",
     "text": [
      "1.0778109117381973\n"
     ]
    },
    {
     "name": "stderr",
     "output_type": "stream",
     "text": [
      "100%|██████████| 50/50 [00:08<00:00,  6.10it/s]\n"
     ]
    },
    {
     "name": "stdout",
     "output_type": "stream",
     "text": [
      "1.0009921588789439\n"
     ]
    },
    {
     "name": "stderr",
     "output_type": "stream",
     "text": [
      "100%|██████████| 50/50 [00:09<00:00,  5.25it/s]\n"
     ]
    },
    {
     "name": "stdout",
     "output_type": "stream",
     "text": [
      "0.9283986473747063\n"
     ]
    },
    {
     "name": "stderr",
     "output_type": "stream",
     "text": [
      "100%|██████████| 50/50 [00:08<00:00,  6.24it/s]\n"
     ]
    },
    {
     "name": "stdout",
     "output_type": "stream",
     "text": [
      "0.773746053710056\n"
     ]
    },
    {
     "name": "stderr",
     "output_type": "stream",
     "text": [
      "100%|██████████| 50/50 [00:07<00:00,  6.69it/s]\n"
     ]
    },
    {
     "name": "stdout",
     "output_type": "stream",
     "text": [
      "0.6375478415066027\n"
     ]
    },
    {
     "name": "stderr",
     "output_type": "stream",
     "text": [
      "100%|██████████| 50/50 [00:07<00:00,  6.76it/s]\n"
     ]
    },
    {
     "name": "stdout",
     "output_type": "stream",
     "text": [
      "0.8899734275473747\n"
     ]
    },
    {
     "name": "stderr",
     "output_type": "stream",
     "text": [
      "100%|██████████| 50/50 [00:07<00:00,  6.36it/s]\n"
     ]
    },
    {
     "name": "stdout",
     "output_type": "stream",
     "text": [
      "1.0608125958242454\n"
     ]
    },
    {
     "name": "stderr",
     "output_type": "stream",
     "text": [
      "100%|██████████| 50/50 [00:05<00:00,  9.01it/s]\n"
     ]
    },
    {
     "name": "stdout",
     "output_type": "stream",
     "text": [
      "0.8116858016364858\n"
     ]
    },
    {
     "name": "stderr",
     "output_type": "stream",
     "text": [
      "100%|██████████| 50/50 [00:04<00:00, 10.64it/s]\n"
     ]
    },
    {
     "name": "stdout",
     "output_type": "stream",
     "text": [
      "0.7884318119977252\n"
     ]
    },
    {
     "name": "stderr",
     "output_type": "stream",
     "text": [
      "100%|██████████| 50/50 [00:06<00:00,  7.18it/s]\n"
     ]
    },
    {
     "name": "stdout",
     "output_type": "stream",
     "text": [
      "0.7359392766375095\n"
     ]
    },
    {
     "name": "stderr",
     "output_type": "stream",
     "text": [
      "100%|██████████| 50/50 [00:04<00:00, 10.15it/s]"
     ]
    },
    {
     "name": "stdout",
     "output_type": "stream",
     "text": [
      "0.6756194088666234\n"
     ]
    },
    {
     "name": "stderr",
     "output_type": "stream",
     "text": [
      "\n"
     ]
    }
   ],
   "source": [
    "baseline = TDFilterbank_real(spec, w_init)\n",
    "losses, conditions = train(\n",
    "    baseline=baseline,\n",
    "    lr=lr,\n",
    "    beta=beta,\n",
    "    n_epochs=n_epochs,\n",
    "    epoch_size=epoch_size)"
   ]
  },
  {
   "cell_type": "code",
   "execution_count": 31,
   "metadata": {},
   "outputs": [
    {
     "data": {
      "image/png": "[encoded data removed]",
      "text/plain": [
       "<Figure size 600x400 with 2 Axes>"
      ]
     },
     "metadata": {},
     "output_type": "display_data"
    }
   ],
   "source": [
    "# plot losses and condition numbers over epochs\n",
    "\n",
    "plt.rcParams['text.usetex'] = False\n",
    "\n",
    "fig, axes = plt.subplots(2, 1, figsize=(6, 4), sharex=True)\n",
    "Ts = np.arange(0, n_epochs+1)\n",
    "\n",
    "ax = axes[0]\n",
    "ax.plot(Ts, losses, 'tab:blue', linewidth=2)\n",
    "\n",
    "ax.set_title('Losses')\n",
    "ax.grid(linestyle='--', alpha=0.5)\n",
    "\n",
    "ax = axes[1]\n",
    "ax.plot(Ts, conditions, 'tab:blue', linewidth=2)\n",
    "ax.plot(Ts, np.ones(len(Ts)), 'tab:red', linewidth=2, linestyle='--')\n",
    "\n",
    "ax.set_title('Condition numbers')\n",
    "ax.set_xlabel('Epochs')\n",
    "ax.grid(linestyle='--', alpha=0.5)\n",
    "\n",
    "plt.tight_layout()\n",
    "\n",
    "plt.savefig('FIR_Tight.pdf', bbox_inches='tight')"
   ]
  },
  {
   "cell_type": "code",
   "execution_count": 142,
   "metadata": {},
   "outputs": [],
   "source": [
    "# save w_init and w_tight_fir as input for the next notebook\n",
    "w_fir_tight = baseline.psi.weight.detach().numpy()[:,0,:]\n",
    "w_fir_tight = np.concatenate((w_fir_tight,np.zeros([spec[\"J\"], spec[\"N\"]-spec[\"T\"]])),axis=1)\n",
    "np.save('w_init.npy', w_init)\n",
    "np.save('w_fir_tight.npy', w_fir_tight)"
   ]
  },
  {
   "cell_type": "code",
   "execution_count": null,
   "metadata": {},
   "outputs": [],
   "source": []
  }
 ],
 "metadata": {
  "kernelspec": {
   "display_name": "alpharect",
   "language": "python",
   "name": "python3"
  },
  "language_info": {
   "codemirror_mode": {
    "name": "ipython",
    "version": 3
   },
   "file_extension": ".py",
   "mimetype": "text/x-python",
   "name": "python",
   "nbconvert_exporter": "python",
   "pygments_lexer": "ipython3",
   "version": "3.8.16"
  },
  "orig_nbformat": 4,
  "vscode": {
   "interpreter": {
    "hash": "69599b8b230edd595963a4c28761c9972651de0c85749bedb88c2c1597573974"
   }
  }
 },
 "nbformat": 4,
 "nbformat_minor": 2
}
