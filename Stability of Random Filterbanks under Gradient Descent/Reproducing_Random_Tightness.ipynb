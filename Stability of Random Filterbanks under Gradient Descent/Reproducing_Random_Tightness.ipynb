{
 "cells": [
  {
   "cell_type": "code",
   "execution_count": 13,
   "metadata": {},
   "outputs": [],
   "source": [
    "import numpy as np\n",
    "import scipy.signal\n",
    "import torch\n",
    "import matplotlib\n",
    "%matplotlib inline\n",
    "from matplotlib import pyplot as plt\n",
    "from collections import Counter\n",
    "import torchaudio\n",
    "import itertools\n",
    "import tqdm\n",
    "import torch.nn.functional as F\n",
    "import scipy as sp\n",
    "import torch.nn as nn\n",
    "import fb"
   ]
  },
  {
   "cell_type": "code",
   "execution_count": 14,
   "metadata": {},
   "outputs": [],
   "source": [
    "HYPERPARAMS = {\n",
    "    \"synth\": {\n",
    "        \"N\": 1024,\n",
    "        \"J\": 10,\n",
    "        \"T\": 256,\n",
    "        \"sr\": 16000,\n",
    "        \"fmin\": 64,\n",
    "        \"fmax\": 8000,\n",
    "        \"batch_size\": 32\n",
    "    },\n",
    "}\n",
    "\n",
    "spec = HYPERPARAMS[\"synth\"]"
   ]
  },
  {
   "cell_type": "code",
   "execution_count": 15,
   "metadata": {},
   "outputs": [],
   "source": [
    "# create a random filterbank and its tightened version\n",
    "\n",
    "w_init, w_tight = fb.random_filterbank(spec[\"N\"], spec[\"J\"], spec[\"T\"], tight=True, to_torch=True)"
   ]
  },
  {
   "cell_type": "code",
   "execution_count": 16,
   "metadata": {},
   "outputs": [],
   "source": [
    "synth = fb.generate_random_sine(\n",
    "    spec[\"sr\"],\n",
    "    spec[\"fmin\"],\n",
    "    spec[\"fmax\"],\n",
    "    spec[\"N\"],\n",
    "    spec[\"batch_size\"])"
   ]
  },
  {
   "cell_type": "code",
   "execution_count": 17,
   "metadata": {},
   "outputs": [
    {
     "name": "stdout",
     "output_type": "stream",
     "text": [
      "TDFilterbank_real(\n",
      "  (psi): Conv1d(1, 10, kernel_size=(256,), stride=(1,), bias=False)\n",
      ")\n"
     ]
    }
   ],
   "source": [
    "# conv1D layer with circulant boundary conditions\n",
    "\n",
    "class TDFilterbank_real(torch.nn.Module):\n",
    "    def __init__(self, spec, w_init):\n",
    "        super().__init__()\n",
    "        \n",
    "        self.psi = torch.nn.Conv1d(\n",
    "            in_channels=1,\n",
    "            out_channels=spec[\"J\"],\n",
    "            kernel_size=spec[\"T\"],\n",
    "            stride=1,\n",
    "            padding=0,\n",
    "            bias=False)\n",
    "        \n",
    "        # initialize the filters to be w_init\n",
    "        self.psi.weight.data = w_init[:, :spec[\"T\"]].unsqueeze(1).float()\n",
    "    \n",
    "    def forward(self, x):\n",
    "        x = x.reshape(x.shape[0], 1, x.shape[-1])\n",
    "        x = F.pad(x, (0, spec[\"T\"]-1), mode='circular',)\n",
    "        Wx = self.psi(x)\n",
    "        Ux = torch.abs(Wx)\n",
    "        return Ux\n",
    "    \n",
    "baseline = TDFilterbank_real(spec, w_init)\n",
    "print(baseline)"
   ]
  },
  {
   "cell_type": "code",
   "execution_count": 27,
   "metadata": {},
   "outputs": [],
   "source": [
    "# loss functions with penalization terms\n",
    "\n",
    "# penalizing large kappa\n",
    "\n",
    "class CondLoss(nn.Module):\n",
    "    def __init__(self):\n",
    "        super(CondLoss, self).__init__()\n",
    "\n",
    "    def forward(self, inputs, targets, w):\n",
    "        w = torch.cat((w,torch.zeros([spec[\"J\"], spec[\"N\"]-spec[\"T\"]])),dim=1)\n",
    "        w_hat = torch.sum(torch.abs(torch.fft.fft(w,dim=1))**2,dim=0)\n",
    "        Lam_max = torch.max(w_hat,dim=0).values\n",
    "        Lam_min = torch.min(w_hat,dim=0).values\n",
    "        loss = torch.mean(torch.abs(inputs - targets)**2) + 0.001*Lam_max/Lam_min\n",
    "        return loss\n",
    "    \n",
    "# penalizing large ||W^T W - I||^2\n",
    "    \n",
    "class NormLoss(nn.Module):\n",
    "    def __init__(self):\n",
    "        super(NormLoss, self).__init__()\n",
    "\n",
    "    def forward(self, inputs, targets, w):\n",
    "        w = torch.cat((w,torch.zeros([spec[\"J\"], spec[\"N\"]-spec[\"T\"]])),dim=1)\n",
    "        W = fb.circulant(w)\n",
    "        S = torch.matmul(W.T,W)\n",
    "        I = torch.eye(S.shape[0])\n",
    "        loss = torch.mean(torch.abs(inputs - targets)**2) + 0.001*torch.norm(S-I)**2\n",
    "        return loss"
   ]
  },
  {
   "cell_type": "code",
   "execution_count": 28,
   "metadata": {},
   "outputs": [],
   "source": [
    "# training function\n",
    "\n",
    "def train(baseline, penalization, lr, n_epochs, epoch_size):\n",
    "    optimizer = torch.optim.Adam(baseline.parameters(), lr=lr)\n",
    "    mse = torch.nn.MSELoss()\n",
    "    if penalization == 'mse':\n",
    "        criterion = torch.nn.MSELoss() \n",
    "    if penalization == 'kappa':\n",
    "        criterion = CondLoss() \n",
    "    if penalization == 'frameop':\n",
    "        criterion = NormLoss() \n",
    "    losses = []\n",
    "    conditions = []\n",
    "\n",
    "    w = baseline.psi.weight.detach().numpy()[:,0,:]\n",
    "    w = np.concatenate((w,np.zeros([spec[\"J\"], spec[\"N\"]-spec[\"T\"]])),axis=1)\n",
    "    A,B = fb.frame_bounds_lp(w)\n",
    "    conditions.append(B/A)\n",
    "\n",
    "    running_loss = 0.0\n",
    "    for _ in range(epoch_size):\n",
    "        inputs = next(synth)\n",
    "        outputs = baseline(inputs)\n",
    "        targets = fb.filterbank_response(inputs, w_tight)\n",
    "        w = baseline.psi.weight[:,0,:]\n",
    "        loss = mse(outputs, targets)\n",
    "        running_loss += loss.item()\n",
    "    print(1000 * running_loss)\n",
    "    losses.append(running_loss)\n",
    "\n",
    "    for _ in range(n_epochs):\n",
    "        running_loss = 0.0\n",
    "        for i in tqdm.tqdm(range(epoch_size)):\n",
    "            inputs = next(synth)\n",
    "            optimizer.zero_grad()\n",
    "            outputs = baseline(inputs)\n",
    "            targets = fb.filterbank_response(inputs, w_tight)\n",
    "            if penalization == 'mse':\n",
    "                loss = mse(outputs, targets)\n",
    "                loss.backward()\n",
    "                optimizer.step()\n",
    "                running_loss += loss.item()\n",
    "            if penalization == 'kappa':\n",
    "                w = baseline.psi.weight[:,0,:]\n",
    "                loss = criterion(outputs, targets, w)\n",
    "                loss.backward()\n",
    "                optimizer.step()\n",
    "                loss2 = mse(outputs, targets)\n",
    "                running_loss += loss2.item()\n",
    "            if penalization == 'frameop':\n",
    "                # use this loss only every 10th iteration\n",
    "                if np.mod(i,10) == 0:\n",
    "                    w = baseline.psi.weight[:,0,:]\n",
    "                    loss = criterion(outputs, targets, w)\n",
    "                    loss.backward()\n",
    "                    optimizer.step()\n",
    "                else:\n",
    "                    loss = mse(outputs, targets)\n",
    "                    loss.backward()\n",
    "                    optimizer.step()                \n",
    "                    loss2 = mse(outputs, targets)\n",
    "                    running_loss += loss2.item()\n",
    "        losses.append(running_loss)\n",
    "        w = baseline.psi.weight.detach().numpy()[:,0,:]\n",
    "        w = np.concatenate((w,np.zeros([spec[\"J\"], spec[\"N\"]-spec[\"T\"]])),axis=1)\n",
    "        A,B = fb.frame_bounds_lp(w)\n",
    "        conditions.append(B/A)\n",
    "        print(1000 * running_loss)\n",
    "\n",
    "    return losses, conditions"
   ]
  },
  {
   "cell_type": "code",
   "execution_count": 29,
   "metadata": {},
   "outputs": [
    {
     "name": "stdout",
     "output_type": "stream",
     "text": [
      "74.72911954391748\n"
     ]
    },
    {
     "name": "stderr",
     "output_type": "stream",
     "text": [
      "100%|██████████| 50/50 [00:02<00:00, 19.37it/s]\n"
     ]
    },
    {
     "name": "stdout",
     "output_type": "stream",
     "text": [
      "39.91045895963907\n"
     ]
    },
    {
     "name": "stderr",
     "output_type": "stream",
     "text": [
      "100%|██████████| 50/50 [00:02<00:00, 21.68it/s]\n"
     ]
    },
    {
     "name": "stdout",
     "output_type": "stream",
     "text": [
      "24.23452728544362\n"
     ]
    },
    {
     "name": "stderr",
     "output_type": "stream",
     "text": [
      "100%|██████████| 50/50 [00:02<00:00, 23.00it/s]\n"
     ]
    },
    {
     "name": "stdout",
     "output_type": "stream",
     "text": [
      "21.25223833718337\n"
     ]
    },
    {
     "name": "stderr",
     "output_type": "stream",
     "text": [
      "100%|██████████| 50/50 [00:02<00:00, 22.82it/s]\n"
     ]
    },
    {
     "name": "stdout",
     "output_type": "stream",
     "text": [
      "20.817333599552512\n"
     ]
    },
    {
     "name": "stderr",
     "output_type": "stream",
     "text": [
      "100%|██████████| 50/50 [00:02<00:00, 19.02it/s]\n"
     ]
    },
    {
     "name": "stdout",
     "output_type": "stream",
     "text": [
      "19.515629421221092\n"
     ]
    },
    {
     "name": "stderr",
     "output_type": "stream",
     "text": [
      "100%|██████████| 50/50 [00:02<00:00, 20.90it/s]\n"
     ]
    },
    {
     "name": "stdout",
     "output_type": "stream",
     "text": [
      "20.30583706800826\n"
     ]
    },
    {
     "name": "stderr",
     "output_type": "stream",
     "text": [
      "100%|██████████| 50/50 [00:02<00:00, 20.58it/s]\n"
     ]
    },
    {
     "name": "stdout",
     "output_type": "stream",
     "text": [
      "19.45873786462471\n"
     ]
    },
    {
     "name": "stderr",
     "output_type": "stream",
     "text": [
      "100%|██████████| 50/50 [00:02<00:00, 18.76it/s]\n"
     ]
    },
    {
     "name": "stdout",
     "output_type": "stream",
     "text": [
      "19.166116195265204\n"
     ]
    },
    {
     "name": "stderr",
     "output_type": "stream",
     "text": [
      "100%|██████████| 50/50 [00:03<00:00, 15.89it/s]\n"
     ]
    },
    {
     "name": "stdout",
     "output_type": "stream",
     "text": [
      "19.955722440499812\n"
     ]
    },
    {
     "name": "stderr",
     "output_type": "stream",
     "text": [
      "100%|██████████| 50/50 [00:03<00:00, 14.75it/s]\n"
     ]
    },
    {
     "name": "stdout",
     "output_type": "stream",
     "text": [
      "19.641173334093764\n",
      "67.14551552431658\n"
     ]
    },
    {
     "name": "stderr",
     "output_type": "stream",
     "text": [
      "100%|██████████| 50/50 [00:04<00:00, 11.90it/s]\n"
     ]
    },
    {
     "name": "stdout",
     "output_type": "stream",
     "text": [
      "49.458925088401884\n"
     ]
    },
    {
     "name": "stderr",
     "output_type": "stream",
     "text": [
      "100%|██████████| 50/50 [00:02<00:00, 17.22it/s]\n"
     ]
    },
    {
     "name": "stdout",
     "output_type": "stream",
     "text": [
      "29.53191052074544\n"
     ]
    },
    {
     "name": "stderr",
     "output_type": "stream",
     "text": [
      "100%|██████████| 50/50 [00:02<00:00, 19.43it/s]\n"
     ]
    },
    {
     "name": "stdout",
     "output_type": "stream",
     "text": [
      "25.58931996463798\n"
     ]
    },
    {
     "name": "stderr",
     "output_type": "stream",
     "text": [
      "100%|██████████| 50/50 [00:02<00:00, 17.83it/s]\n"
     ]
    },
    {
     "name": "stdout",
     "output_type": "stream",
     "text": [
      "22.99056388437748\n"
     ]
    },
    {
     "name": "stderr",
     "output_type": "stream",
     "text": [
      "100%|██████████| 50/50 [00:02<00:00, 19.15it/s]\n"
     ]
    },
    {
     "name": "stdout",
     "output_type": "stream",
     "text": [
      "22.7359825221356\n"
     ]
    },
    {
     "name": "stderr",
     "output_type": "stream",
     "text": [
      "100%|██████████| 50/50 [00:02<00:00, 19.23it/s]\n"
     ]
    },
    {
     "name": "stdout",
     "output_type": "stream",
     "text": [
      "22.122872120235115\n"
     ]
    },
    {
     "name": "stderr",
     "output_type": "stream",
     "text": [
      "100%|██████████| 50/50 [00:02<00:00, 18.87it/s]\n"
     ]
    },
    {
     "name": "stdout",
     "output_type": "stream",
     "text": [
      "23.2428667077329\n"
     ]
    },
    {
     "name": "stderr",
     "output_type": "stream",
     "text": [
      "100%|██████████| 50/50 [00:02<00:00, 22.41it/s]\n"
     ]
    },
    {
     "name": "stdout",
     "output_type": "stream",
     "text": [
      "24.161187116988003\n"
     ]
    },
    {
     "name": "stderr",
     "output_type": "stream",
     "text": [
      "100%|██████████| 50/50 [00:02<00:00, 20.08it/s]\n"
     ]
    },
    {
     "name": "stdout",
     "output_type": "stream",
     "text": [
      "24.60117667214945\n"
     ]
    },
    {
     "name": "stderr",
     "output_type": "stream",
     "text": [
      "100%|██████████| 50/50 [00:02<00:00, 18.79it/s]\n"
     ]
    },
    {
     "name": "stdout",
     "output_type": "stream",
     "text": [
      "24.65884547564201\n",
      "68.81063908804208\n"
     ]
    },
    {
     "name": "stderr",
     "output_type": "stream",
     "text": [
      "100%|██████████| 50/50 [00:06<00:00,  7.60it/s]\n"
     ]
    },
    {
     "name": "stdout",
     "output_type": "stream",
     "text": [
      "41.04384651873261\n"
     ]
    },
    {
     "name": "stderr",
     "output_type": "stream",
     "text": [
      "100%|██████████| 50/50 [00:07<00:00,  6.27it/s]\n"
     ]
    },
    {
     "name": "stdout",
     "output_type": "stream",
     "text": [
      "25.780277530429885\n"
     ]
    },
    {
     "name": "stderr",
     "output_type": "stream",
     "text": [
      "100%|██████████| 50/50 [00:07<00:00,  6.97it/s]\n"
     ]
    },
    {
     "name": "stdout",
     "output_type": "stream",
     "text": [
      "25.10697752586566\n"
     ]
    },
    {
     "name": "stderr",
     "output_type": "stream",
     "text": [
      "100%|██████████| 50/50 [00:08<00:00,  5.81it/s]\n"
     ]
    },
    {
     "name": "stdout",
     "output_type": "stream",
     "text": [
      "26.227060036035255\n"
     ]
    },
    {
     "name": "stderr",
     "output_type": "stream",
     "text": [
      "100%|██████████| 50/50 [00:07<00:00,  6.34it/s]\n"
     ]
    },
    {
     "name": "stdout",
     "output_type": "stream",
     "text": [
      "27.700551552698016\n"
     ]
    },
    {
     "name": "stderr",
     "output_type": "stream",
     "text": [
      "100%|██████████| 50/50 [00:10<00:00,  4.96it/s]\n"
     ]
    },
    {
     "name": "stdout",
     "output_type": "stream",
     "text": [
      "29.00924815912731\n"
     ]
    },
    {
     "name": "stderr",
     "output_type": "stream",
     "text": [
      "100%|██████████| 50/50 [00:06<00:00,  7.52it/s]\n"
     ]
    },
    {
     "name": "stdout",
     "output_type": "stream",
     "text": [
      "29.524916812079027\n"
     ]
    },
    {
     "name": "stderr",
     "output_type": "stream",
     "text": [
      "100%|██████████| 50/50 [00:08<00:00,  6.08it/s]\n"
     ]
    },
    {
     "name": "stdout",
     "output_type": "stream",
     "text": [
      "29.678329621674493\n"
     ]
    },
    {
     "name": "stderr",
     "output_type": "stream",
     "text": [
      "100%|██████████| 50/50 [00:08<00:00,  5.60it/s]\n"
     ]
    },
    {
     "name": "stdout",
     "output_type": "stream",
     "text": [
      "30.647123290691525\n"
     ]
    },
    {
     "name": "stderr",
     "output_type": "stream",
     "text": [
      "100%|██████████| 50/50 [00:06<00:00,  7.29it/s]"
     ]
    },
    {
     "name": "stdout",
     "output_type": "stream",
     "text": [
      "27.846325509017333\n"
     ]
    },
    {
     "name": "stderr",
     "output_type": "stream",
     "text": [
      "\n"
     ]
    }
   ],
   "source": [
    "n_epochs = 10\n",
    "epoch_size = 50\n",
    "lr = 0.0001\n",
    "\n",
    "baseline = TDFilterbank_real(spec, w_init)\n",
    "losses_mse, conditions_mse = train(\n",
    "    baseline=baseline,\n",
    "    penalization='mse',\n",
    "    lr=lr,\n",
    "    n_epochs=n_epochs,\n",
    "    epoch_size=epoch_size)\n",
    "\n",
    "baseline = TDFilterbank_real(spec, w_init)\n",
    "losses_kappa, conditions_kappa = train(\n",
    "    baseline=baseline,\n",
    "    penalization='kappa',\n",
    "    lr=lr,\n",
    "    n_epochs=n_epochs,\n",
    "    epoch_size=epoch_size)\n",
    "\n",
    "baseline = TDFilterbank_real(spec, w_init)\n",
    "losses_fo, conditions_fo = train(\n",
    "    baseline=baseline,\n",
    "    penalization='frameop',\n",
    "    lr=lr,\n",
    "    n_epochs=n_epochs,\n",
    "    epoch_size=epoch_size)"
   ]
  },
  {
   "cell_type": "code",
   "execution_count": 31,
   "metadata": {},
   "outputs": [
    {
     "data": {
      "image/png": "[encoded data removed]",
      "text/plain": [
       "<Figure size 600x400 with 2 Axes>"
      ]
     },
     "metadata": {},
     "output_type": "display_data"
    }
   ],
   "source": [
    "# plot losses and condition numbers over epochs\n",
    "\n",
    "plt.rcParams['text.usetex'] = False\n",
    "\n",
    "fig, axes = plt.subplots(2, 1, figsize=(6, 4), sharex=True)\n",
    "Ts = np.arange(0, n_epochs+1)\n",
    "\n",
    "ax = axes[0]\n",
    "ax.plot(Ts, losses_mse, 'tab:blue', linewidth=2, marker = 'o')\n",
    "ax.plot(Ts, losses_kappa, 'tab:green', linewidth=2, marker = 'd')\n",
    "ax.plot(Ts, losses_fo, 'tab:orange', linewidth=2, marker = 's')\n",
    "\n",
    "ax.set_title('Losses')\n",
    "ax.grid(linestyle='--', alpha=0.5)\n",
    "\n",
    "ax = axes[1]\n",
    "ax.plot(Ts, conditions_mse, 'tab:blue', linewidth=2, label='MSE', marker = 'o')\n",
    "ax.plot(Ts, conditions_kappa, 'tab:green', linewidth=2, label='Kappa', marker = 'd')\n",
    "ax.plot(Ts, conditions_fo, 'tab:orange', linewidth=2, label='Frameoperator', marker = 's')\n",
    "ax.plot(Ts, np.ones(len(Ts)), 'tab:red', linewidth=2, label='Tightened', linestyle='--')\n",
    "\n",
    "ax.set_title('Condition numbers')\n",
    "ax.legend(loc='upper right')\n",
    "ax.set_xlabel('Epochs')\n",
    "ax.grid(linestyle='--', alpha=0.5)\n",
    "\n",
    "plt.tight_layout()\n",
    "\n",
    "plt.savefig('Reproducing_Random_Tightness.pdf', bbox_inches='tight')"
   ]
  },
  {
   "cell_type": "code",
   "execution_count": null,
   "metadata": {},
   "outputs": [],
   "source": []
  }
 ],
 "metadata": {
  "kernelspec": {
   "display_name": "alpharect",
   "language": "python",
   "name": "python3"
  },
  "language_info": {
   "codemirror_mode": {
    "name": "ipython",
    "version": 3
   },
   "file_extension": ".py",
   "mimetype": "text/x-python",
   "name": "python",
   "nbconvert_exporter": "python",
   "pygments_lexer": "ipython3",
   "version": "3.8.16"
  },
  "orig_nbformat": 4,
  "vscode": {
   "interpreter": {
    "hash": "69599b8b230edd595963a4c28761c9972651de0c85749bedb88c2c1597573974"
   }
  }
 },
 "nbformat": 4,
 "nbformat_minor": 2
}
