{
 "cells": [
  {
   "cell_type": "code",
   "execution_count": 1,
   "metadata": {},
   "outputs": [],
   "source": [
    "import numpy as np\n",
    "import torch\n",
    "%matplotlib inline\n",
    "from matplotlib import pyplot as plt\n",
    "import tqdm\n",
    "import torch.nn.functional as F\n",
    "import torch.nn as nn\n",
    "import time\n",
    "import fb_utils as fb"
   ]
  },
  {
   "cell_type": "code",
   "execution_count": 2,
   "metadata": {},
   "outputs": [],
   "source": [
    "# load parameters\n",
    "\n",
    "spec = fb.HYPERPARAMS[\"ART\"]"
   ]
  },
  {
   "cell_type": "code",
   "execution_count": 4,
   "metadata": {},
   "outputs": [],
   "source": [
    "# create a random filterbank and its tightened version\n",
    "\n",
    "w_ran = fb.random_filterbank(spec[\"N\"], spec[\"J\"], spec[\"T\"], tight=False, to_torch=False)\n",
    "w_tight = fb.fir_tightener3000(w_ran)\n",
    "# np.save('values/Parseval_w_init.npy', w_init)\n",
    "# np.save('values/Parseval_w_tight.npy', w_tight)"
   ]
  },
  {
   "cell_type": "code",
   "execution_count": 4,
   "metadata": {},
   "outputs": [],
   "source": [
    "# data generator\n",
    "\n",
    "synth = fb.generate_random_sine(\n",
    "    spec[\"sr\"],\n",
    "    spec[\"fmin\"],\n",
    "    spec[\"fmax\"],\n",
    "    spec[\"N\"],\n",
    "    spec[\"batch_size\"])"
   ]
  },
  {
   "cell_type": "code",
   "execution_count": 5,
   "metadata": {},
   "outputs": [
    {
     "name": "stdout",
     "output_type": "stream",
     "text": [
      "TDFilterbank(\n",
      "  (psi): Conv1d(1, 40, kernel_size=(1024,), stride=(1,), bias=False)\n",
      ")\n"
     ]
    }
   ],
   "source": [
    "# conv1D layer with circulant boundary conditions\n",
    "\n",
    "class TDFilterbank(torch.nn.Module):\n",
    "    def __init__(self, spec, w):\n",
    "        super().__init__()\n",
    "        \n",
    "        self.psi = torch.nn.Conv1d(\n",
    "            in_channels=1,\n",
    "            out_channels=spec[\"J\"],\n",
    "            kernel_size=spec[\"T\"],\n",
    "            stride=1,\n",
    "            padding=0,\n",
    "            bias=False)\n",
    "        \n",
    "        # initialize the filters to be w_init\n",
    "        self.psi.weight.data = w[:, :spec[\"T\"]].unsqueeze(1).float()\n",
    "    \n",
    "    def forward(self, x):\n",
    "        x = x.reshape(x.shape[0], 1, x.shape[-1])\n",
    "        x = F.pad(x, (0, spec[\"T\"]-1), mode='circular',)\n",
    "        Wx = self.psi(x)\n",
    "        Ux = torch.abs(Wx)\n",
    "        return Ux\n",
    "    \n",
    "baseline = TDFilterbank(spec, w_init)\n",
    "print(baseline)"
   ]
  },
  {
   "cell_type": "code",
   "execution_count": 6,
   "metadata": {},
   "outputs": [],
   "source": [
    "# loss functions with penalization terms\n",
    "\n",
    "# penalizing large kappa\n",
    "\n",
    "class KappaLoss(nn.Module):\n",
    "    def __init__(self):\n",
    "        super(KappaLoss, self).__init__()\n",
    "        self.loss = nn.MSELoss()\n",
    "\n",
    "    def forward(self, inputs, targets, w, beta_k):\n",
    "        w = torch.cat((w,torch.zeros([spec[\"J\"], spec[\"N\"]-spec[\"T\"]])),dim=1)\n",
    "        w_hat = torch.sum(torch.abs(torch.fft.fft(w,dim=1))**2,dim=0)\n",
    "        Lam_max = torch.max(w_hat,dim=0).values\n",
    "        Lam_min = torch.min(w_hat,dim=0).values\n",
    "        loss = torch.mean(self.loss(inputs, targets)) + beta_k*Lam_max/Lam_min\n",
    "        return loss\n",
    "    \n",
    "# penalizing large ||S - I||^2\n",
    "    \n",
    "class SLoss(nn.Module):\n",
    "   def __init__(self):\n",
    "       super(SLoss, self).__init__()\n",
    "\n",
    "   def forward(self, inputs, targets, w, beta_S):\n",
    "       w = torch.cat((w,torch.zeros([spec[\"J\"], spec[\"N\"]-spec[\"T\"]])),dim=1)\n",
    "       W = fb.circulant(w)\n",
    "       S = torch.matmul(W.T,W)\n",
    "       I = torch.eye(S.shape[0])\n",
    "       loss = torch.mean(torch.abs(inputs - targets)**2) + beta_S*torch.norm(S-I)**2\n",
    "       return loss"
   ]
  },
  {
   "cell_type": "code",
   "execution_count": 7,
   "metadata": {},
   "outputs": [],
   "source": [
    "# training function\n",
    "\n",
    "def train(baseline, penalization, lr, beta_k, beta_S, n_epochs, epoch_size):\n",
    "    optimizer = torch.optim.SGD(baseline.parameters(), lr=lr)\n",
    "    mse = torch.nn.MSELoss()\n",
    "    if penalization == 'mse':\n",
    "        criterion = torch.nn.MSELoss() \n",
    "    if penalization == 'kappa':\n",
    "        criterion = KappaLoss() \n",
    "    if penalization == 'S':\n",
    "        criterion = SLoss() \n",
    "    losses = []\n",
    "    conditions = []\n",
    "\n",
    "    w = baseline.psi.weight.detach().numpy()[:,0,:]\n",
    "    w = np.concatenate((w,np.zeros([spec[\"J\"], spec[\"N\"]-spec[\"T\"]])),axis=1)\n",
    "    A,B = fb.frame_bounds_lp(w)\n",
    "    conditions.append(B/A)\n",
    "\n",
    "    running_loss = 0.0\n",
    "    for _ in range(epoch_size):\n",
    "        inputs = next(synth)\n",
    "        outputs = baseline(inputs)\n",
    "        targets = fb.filterbank_response(inputs, w_tight, mag=True)\n",
    "        w = baseline.psi.weight[:,0,:]\n",
    "        loss = mse(outputs, targets)\n",
    "        running_loss += loss.item()\n",
    "    print(1000 * running_loss)\n",
    "    losses.append(running_loss)\n",
    "\n",
    "    for _ in range(n_epochs):\n",
    "        running_loss = 0.0\n",
    "        for i in tqdm.tqdm(range(epoch_size)):\n",
    "            inputs = next(synth)\n",
    "            optimizer.zero_grad()\n",
    "            outputs = baseline(inputs)\n",
    "            targets = fb.filterbank_response(inputs, w_tight, mag=True)\n",
    "            if penalization == 'mse':\n",
    "                loss = mse(outputs, targets)\n",
    "                loss.backward()\n",
    "                optimizer.step()\n",
    "                running_loss += loss.item()\n",
    "            if penalization == 'kappa':\n",
    "                w = baseline.psi.weight[:,0,:]\n",
    "                loss = criterion(outputs, targets, w, beta_k)\n",
    "                loss.backward()\n",
    "                optimizer.step()\n",
    "                loss2 = mse(outputs, targets)\n",
    "                running_loss += loss2.item()\n",
    "            if penalization == 'S':\n",
    "                # use this loss only every 10th iteration\n",
    "                if np.mod(i+1,100) == 0:\n",
    "                    w = baseline.psi.weight[:,0,:]\n",
    "                    loss = criterion(outputs, targets, w, beta_S)\n",
    "                    loss.backward()\n",
    "                    optimizer.step()\n",
    "                else:\n",
    "                    loss = mse(outputs, targets)\n",
    "                    loss.backward()\n",
    "                    optimizer.step()                \n",
    "                    loss2 = mse(outputs, targets)\n",
    "                    running_loss += loss2.item()\n",
    "        losses.append(running_loss)\n",
    "        w = baseline.psi.weight.detach().numpy()[:,0,:]\n",
    "        w = np.concatenate((w,np.zeros([spec[\"J\"], spec[\"N\"]-spec[\"T\"]])),axis=1)\n",
    "        A,B = fb.frame_bounds_lp(w)\n",
    "        conditions.append(B/A)\n",
    "        print(1000 * running_loss)\n",
    "\n",
    "    return losses, conditions"
   ]
  },
  {
   "cell_type": "code",
   "execution_count": 8,
   "metadata": {},
   "outputs": [],
   "source": [
    "# training hyperparameters\n",
    "\n",
    "n_epochs = 50\n",
    "epoch_size = 100\n",
    "lr = 0.1\n",
    "beta_k = 0.0001\n",
    "beta_S = 0.00005"
   ]
  },
  {
   "cell_type": "code",
   "execution_count": 9,
   "metadata": {},
   "outputs": [
    {
     "name": "stdout",
     "output_type": "stream",
     "text": [
      "7.1909851794771384\n"
     ]
    },
    {
     "name": "stderr",
     "output_type": "stream",
     "text": [
      "100%|██████████| 100/100 [00:25<00:00,  3.98it/s]\n"
     ]
    },
    {
     "name": "stdout",
     "output_type": "stream",
     "text": [
      "4.1670447226351826\n"
     ]
    },
    {
     "name": "stderr",
     "output_type": "stream",
     "text": [
      "100%|██████████| 100/100 [00:26<00:00,  3.81it/s]\n"
     ]
    },
    {
     "name": "stdout",
     "output_type": "stream",
     "text": [
      "2.2993908028183796\n"
     ]
    },
    {
     "name": "stderr",
     "output_type": "stream",
     "text": [
      "100%|██████████| 100/100 [00:24<00:00,  4.09it/s]\n"
     ]
    },
    {
     "name": "stdout",
     "output_type": "stream",
     "text": [
      "1.6708241982996697\n"
     ]
    },
    {
     "name": "stderr",
     "output_type": "stream",
     "text": [
      "100%|██████████| 100/100 [00:22<00:00,  4.48it/s]\n"
     ]
    },
    {
     "name": "stdout",
     "output_type": "stream",
     "text": [
      "1.3717875717702555\n"
     ]
    },
    {
     "name": "stderr",
     "output_type": "stream",
     "text": [
      "100%|██████████| 100/100 [00:20<00:00,  4.94it/s]\n"
     ]
    },
    {
     "name": "stdout",
     "output_type": "stream",
     "text": [
      "0.9507633394605364\n"
     ]
    },
    {
     "name": "stderr",
     "output_type": "stream",
     "text": [
      "100%|██████████| 100/100 [00:23<00:00,  4.22it/s]\n"
     ]
    },
    {
     "name": "stdout",
     "output_type": "stream",
     "text": [
      "0.8136874664614879\n"
     ]
    },
    {
     "name": "stderr",
     "output_type": "stream",
     "text": [
      "100%|██████████| 100/100 [00:28<00:00,  3.55it/s]\n"
     ]
    },
    {
     "name": "stdout",
     "output_type": "stream",
     "text": [
      "0.6268994103493242\n"
     ]
    },
    {
     "name": "stderr",
     "output_type": "stream",
     "text": [
      "100%|██████████| 100/100 [00:24<00:00,  4.16it/s]\n"
     ]
    },
    {
     "name": "stdout",
     "output_type": "stream",
     "text": [
      "0.5292084408665687\n"
     ]
    },
    {
     "name": "stderr",
     "output_type": "stream",
     "text": [
      "100%|██████████| 100/100 [00:36<00:00,  2.76it/s]\n"
     ]
    },
    {
     "name": "stdout",
     "output_type": "stream",
     "text": [
      "0.45918904231712077\n"
     ]
    },
    {
     "name": "stderr",
     "output_type": "stream",
     "text": [
      "100%|██████████| 100/100 [00:31<00:00,  3.20it/s]\n"
     ]
    },
    {
     "name": "stdout",
     "output_type": "stream",
     "text": [
      "0.382089212507708\n"
     ]
    },
    {
     "name": "stderr",
     "output_type": "stream",
     "text": [
      "100%|██████████| 100/100 [00:40<00:00,  2.45it/s]\n"
     ]
    },
    {
     "name": "stdout",
     "output_type": "stream",
     "text": [
      "0.3000724985611214\n"
     ]
    },
    {
     "name": "stderr",
     "output_type": "stream",
     "text": [
      "100%|██████████| 100/100 [00:37<00:00,  2.69it/s]\n"
     ]
    },
    {
     "name": "stdout",
     "output_type": "stream",
     "text": [
      "0.23805741483329257\n"
     ]
    },
    {
     "name": "stderr",
     "output_type": "stream",
     "text": [
      "100%|██████████| 100/100 [00:23<00:00,  4.23it/s]\n"
     ]
    },
    {
     "name": "stdout",
     "output_type": "stream",
     "text": [
      "0.21416856955625008\n"
     ]
    },
    {
     "name": "stderr",
     "output_type": "stream",
     "text": [
      "100%|██████████| 100/100 [00:33<00:00,  2.95it/s]\n"
     ]
    },
    {
     "name": "stdout",
     "output_type": "stream",
     "text": [
      "0.16992643891455828\n"
     ]
    },
    {
     "name": "stderr",
     "output_type": "stream",
     "text": [
      "100%|██████████| 100/100 [00:20<00:00,  4.93it/s]\n"
     ]
    },
    {
     "name": "stdout",
     "output_type": "stream",
     "text": [
      "0.1673533801351823\n"
     ]
    },
    {
     "name": "stderr",
     "output_type": "stream",
     "text": [
      "100%|██████████| 100/100 [00:25<00:00,  3.85it/s]\n"
     ]
    },
    {
     "name": "stdout",
     "output_type": "stream",
     "text": [
      "0.12725238843813713\n"
     ]
    },
    {
     "name": "stderr",
     "output_type": "stream",
     "text": [
      "100%|██████████| 100/100 [00:38<00:00,  2.57it/s]\n"
     ]
    },
    {
     "name": "stdout",
     "output_type": "stream",
     "text": [
      "0.10812806736737457\n"
     ]
    },
    {
     "name": "stderr",
     "output_type": "stream",
     "text": [
      "100%|██████████| 100/100 [00:31<00:00,  3.15it/s]\n"
     ]
    },
    {
     "name": "stdout",
     "output_type": "stream",
     "text": [
      "0.09662854328240655\n"
     ]
    },
    {
     "name": "stderr",
     "output_type": "stream",
     "text": [
      "100%|██████████| 100/100 [00:25<00:00,  3.86it/s]\n"
     ]
    },
    {
     "name": "stdout",
     "output_type": "stream",
     "text": [
      "0.08515286947385903\n"
     ]
    },
    {
     "name": "stderr",
     "output_type": "stream",
     "text": [
      "100%|██████████| 100/100 [00:25<00:00,  3.99it/s]\n"
     ]
    },
    {
     "name": "stdout",
     "output_type": "stream",
     "text": [
      "0.08510692365248929\n"
     ]
    },
    {
     "name": "stderr",
     "output_type": "stream",
     "text": [
      "100%|██████████| 100/100 [00:28<00:00,  3.57it/s]\n"
     ]
    },
    {
     "name": "stdout",
     "output_type": "stream",
     "text": [
      "0.05961207348015307\n"
     ]
    },
    {
     "name": "stderr",
     "output_type": "stream",
     "text": [
      "100%|██████████| 100/100 [00:19<00:00,  5.13it/s]\n"
     ]
    },
    {
     "name": "stdout",
     "output_type": "stream",
     "text": [
      "0.04930918148104979\n"
     ]
    },
    {
     "name": "stderr",
     "output_type": "stream",
     "text": [
      "100%|██████████| 100/100 [00:24<00:00,  4.00it/s]\n"
     ]
    },
    {
     "name": "stdout",
     "output_type": "stream",
     "text": [
      "0.0441915568849538\n"
     ]
    },
    {
     "name": "stderr",
     "output_type": "stream",
     "text": [
      "100%|██████████| 100/100 [00:21<00:00,  4.62it/s]\n"
     ]
    },
    {
     "name": "stdout",
     "output_type": "stream",
     "text": [
      "0.03861493830115137\n"
     ]
    },
    {
     "name": "stderr",
     "output_type": "stream",
     "text": [
      "100%|██████████| 100/100 [00:20<00:00,  4.76it/s]\n"
     ]
    },
    {
     "name": "stdout",
     "output_type": "stream",
     "text": [
      "0.03345316564384859\n"
     ]
    },
    {
     "name": "stderr",
     "output_type": "stream",
     "text": [
      "100%|██████████| 100/100 [00:20<00:00,  4.79it/s]\n"
     ]
    },
    {
     "name": "stdout",
     "output_type": "stream",
     "text": [
      "0.031013972876081652\n"
     ]
    },
    {
     "name": "stderr",
     "output_type": "stream",
     "text": [
      "100%|██████████| 100/100 [00:19<00:00,  5.11it/s]\n"
     ]
    },
    {
     "name": "stdout",
     "output_type": "stream",
     "text": [
      "0.029284200090629042\n"
     ]
    },
    {
     "name": "stderr",
     "output_type": "stream",
     "text": [
      "100%|██████████| 100/100 [00:20<00:00,  4.94it/s]\n"
     ]
    },
    {
     "name": "stdout",
     "output_type": "stream",
     "text": [
      "0.019771633495757612\n"
     ]
    },
    {
     "name": "stderr",
     "output_type": "stream",
     "text": [
      " 45%|████▌     | 45/100 [00:16<00:45,  1.22it/s]"
     ]
    }
   ],
   "source": [
    "# train: no penalization\n",
    "\n",
    "start = time.time()\n",
    "\n",
    "baseline_no = TDFilterbank(spec, w_init)\n",
    "losses_no, conditions_no = train(\n",
    "    baseline=baseline_no,\n",
    "    penalization='mse',\n",
    "    lr=lr,\n",
    "    beta_k=beta_k,\n",
    "    beta_S=beta_S,\n",
    "    n_epochs=n_epochs,\n",
    "    epoch_size=epoch_size)\n",
    "\n",
    "end = time.time()\n",
    "time_no = end - start\n",
    "\n",
    "np.save('values/Parseval_losses_no.npy',losses_no)\n",
    "np.save('values/Parseval_conditions_no.npy',conditions_no)"
   ]
  },
  {
   "cell_type": "code",
   "execution_count": null,
   "metadata": {},
   "outputs": [
    {
     "name": "stdout",
     "output_type": "stream",
     "text": [
      "8.832018771499861\n"
     ]
    },
    {
     "name": "stderr",
     "output_type": "stream",
     "text": [
      "100%|██████████| 100/100 [00:19<00:00,  5.15it/s]\n"
     ]
    },
    {
     "name": "stdout",
     "output_type": "stream",
     "text": [
      "3.6886765010422096\n"
     ]
    },
    {
     "name": "stderr",
     "output_type": "stream",
     "text": [
      "100%|██████████| 100/100 [00:19<00:00,  5.15it/s]\n"
     ]
    },
    {
     "name": "stdout",
     "output_type": "stream",
     "text": [
      "1.3274772782096989\n"
     ]
    },
    {
     "name": "stderr",
     "output_type": "stream",
     "text": [
      "100%|██████████| 100/100 [00:23<00:00,  4.30it/s]\n"
     ]
    },
    {
     "name": "stdout",
     "output_type": "stream",
     "text": [
      "0.5989203593799175\n"
     ]
    },
    {
     "name": "stderr",
     "output_type": "stream",
     "text": [
      "100%|██████████| 100/100 [00:18<00:00,  5.37it/s]\n"
     ]
    },
    {
     "name": "stdout",
     "output_type": "stream",
     "text": [
      "0.29972560025726125\n"
     ]
    },
    {
     "name": "stderr",
     "output_type": "stream",
     "text": [
      "100%|██████████| 100/100 [00:19<00:00,  5.21it/s]\n"
     ]
    },
    {
     "name": "stdout",
     "output_type": "stream",
     "text": [
      "0.13118028971348394\n"
     ]
    },
    {
     "name": "stderr",
     "output_type": "stream",
     "text": [
      "100%|██████████| 100/100 [00:18<00:00,  5.54it/s]\n"
     ]
    },
    {
     "name": "stdout",
     "output_type": "stream",
     "text": [
      "0.04620162488322421\n"
     ]
    },
    {
     "name": "stderr",
     "output_type": "stream",
     "text": [
      "100%|██████████| 100/100 [00:18<00:00,  5.27it/s]\n"
     ]
    },
    {
     "name": "stdout",
     "output_type": "stream",
     "text": [
      "0.012129322254139652\n"
     ]
    },
    {
     "name": "stderr",
     "output_type": "stream",
     "text": [
      "100%|██████████| 100/100 [00:20<00:00,  4.76it/s]\n"
     ]
    },
    {
     "name": "stdout",
     "output_type": "stream",
     "text": [
      "0.005836062355157878\n"
     ]
    },
    {
     "name": "stderr",
     "output_type": "stream",
     "text": [
      "100%|██████████| 100/100 [00:20<00:00,  4.99it/s]\n"
     ]
    },
    {
     "name": "stdout",
     "output_type": "stream",
     "text": [
      "0.00395421278476249\n"
     ]
    },
    {
     "name": "stderr",
     "output_type": "stream",
     "text": [
      "100%|██████████| 100/100 [00:20<00:00,  4.82it/s]\n"
     ]
    },
    {
     "name": "stdout",
     "output_type": "stream",
     "text": [
      "0.0027447096995203424\n"
     ]
    },
    {
     "name": "stderr",
     "output_type": "stream",
     "text": [
      "100%|██████████| 100/100 [00:19<00:00,  5.08it/s]\n"
     ]
    },
    {
     "name": "stdout",
     "output_type": "stream",
     "text": [
      "0.002197195011710562\n"
     ]
    },
    {
     "name": "stderr",
     "output_type": "stream",
     "text": [
      "100%|██████████| 100/100 [00:18<00:00,  5.45it/s]\n"
     ]
    },
    {
     "name": "stdout",
     "output_type": "stream",
     "text": [
      "0.001572779508407507\n"
     ]
    },
    {
     "name": "stderr",
     "output_type": "stream",
     "text": [
      "100%|██████████| 100/100 [00:18<00:00,  5.29it/s]\n"
     ]
    },
    {
     "name": "stdout",
     "output_type": "stream",
     "text": [
      "0.0012170502916575288\n"
     ]
    },
    {
     "name": "stderr",
     "output_type": "stream",
     "text": [
      "100%|██████████| 100/100 [00:22<00:00,  4.42it/s]\n"
     ]
    },
    {
     "name": "stdout",
     "output_type": "stream",
     "text": [
      "0.0008995990039561974\n"
     ]
    },
    {
     "name": "stderr",
     "output_type": "stream",
     "text": [
      "100%|██████████| 100/100 [00:21<00:00,  4.70it/s]\n"
     ]
    },
    {
     "name": "stdout",
     "output_type": "stream",
     "text": [
      "0.0008253670762403686\n"
     ]
    },
    {
     "name": "stderr",
     "output_type": "stream",
     "text": [
      "100%|██████████| 100/100 [00:19<00:00,  5.01it/s]\n"
     ]
    },
    {
     "name": "stdout",
     "output_type": "stream",
     "text": [
      "0.0005749033420432426\n"
     ]
    },
    {
     "name": "stderr",
     "output_type": "stream",
     "text": [
      "100%|██████████| 100/100 [00:20<00:00,  4.80it/s]\n"
     ]
    },
    {
     "name": "stdout",
     "output_type": "stream",
     "text": [
      "0.00045715343499619365\n"
     ]
    },
    {
     "name": "stderr",
     "output_type": "stream",
     "text": [
      "100%|██████████| 100/100 [00:22<00:00,  4.41it/s]\n"
     ]
    },
    {
     "name": "stdout",
     "output_type": "stream",
     "text": [
      "0.0004238355144625672\n"
     ]
    },
    {
     "name": "stderr",
     "output_type": "stream",
     "text": [
      "100%|██████████| 100/100 [00:21<00:00,  4.55it/s]\n"
     ]
    },
    {
     "name": "stdout",
     "output_type": "stream",
     "text": [
      "0.0003096603836127976\n"
     ]
    },
    {
     "name": "stderr",
     "output_type": "stream",
     "text": [
      "100%|██████████| 100/100 [00:19<00:00,  5.16it/s]\n"
     ]
    },
    {
     "name": "stdout",
     "output_type": "stream",
     "text": [
      "0.0003692691426249173\n"
     ]
    },
    {
     "name": "stderr",
     "output_type": "stream",
     "text": [
      "100%|██████████| 100/100 [00:18<00:00,  5.45it/s]\n"
     ]
    },
    {
     "name": "stdout",
     "output_type": "stream",
     "text": [
      "0.00016878378372719993\n"
     ]
    },
    {
     "name": "stderr",
     "output_type": "stream",
     "text": [
      "100%|██████████| 100/100 [00:21<00:00,  4.74it/s]\n"
     ]
    },
    {
     "name": "stdout",
     "output_type": "stream",
     "text": [
      "0.0001690887117544726\n"
     ]
    },
    {
     "name": "stderr",
     "output_type": "stream",
     "text": [
      "100%|██████████| 100/100 [00:23<00:00,  4.33it/s]\n"
     ]
    },
    {
     "name": "stdout",
     "output_type": "stream",
     "text": [
      "0.0002547790312612541\n"
     ]
    },
    {
     "name": "stderr",
     "output_type": "stream",
     "text": [
      "100%|██████████| 100/100 [00:20<00:00,  4.90it/s]\n"
     ]
    },
    {
     "name": "stdout",
     "output_type": "stream",
     "text": [
      "0.00012871778432010927\n"
     ]
    },
    {
     "name": "stderr",
     "output_type": "stream",
     "text": [
      "100%|██████████| 100/100 [00:21<00:00,  4.63it/s]\n"
     ]
    },
    {
     "name": "stdout",
     "output_type": "stream",
     "text": [
      "0.00014697072422964474\n"
     ]
    },
    {
     "name": "stderr",
     "output_type": "stream",
     "text": [
      "100%|██████████| 100/100 [00:20<00:00,  4.77it/s]\n"
     ]
    },
    {
     "name": "stdout",
     "output_type": "stream",
     "text": [
      "0.0001781305500464514\n"
     ]
    },
    {
     "name": "stderr",
     "output_type": "stream",
     "text": [
      "100%|██████████| 100/100 [00:18<00:00,  5.39it/s]\n"
     ]
    },
    {
     "name": "stdout",
     "output_type": "stream",
     "text": [
      "0.00017736345756316774\n"
     ]
    },
    {
     "name": "stderr",
     "output_type": "stream",
     "text": [
      "100%|██████████| 100/100 [00:20<00:00,  4.91it/s]\n"
     ]
    },
    {
     "name": "stdout",
     "output_type": "stream",
     "text": [
      "9.034875589862545e-05\n"
     ]
    },
    {
     "name": "stderr",
     "output_type": "stream",
     "text": [
      "100%|██████████| 100/100 [00:20<00:00,  4.90it/s]\n"
     ]
    },
    {
     "name": "stdout",
     "output_type": "stream",
     "text": [
      "0.00014233429819487942\n"
     ]
    },
    {
     "name": "stderr",
     "output_type": "stream",
     "text": [
      "100%|██████████| 100/100 [00:20<00:00,  4.99it/s]\n"
     ]
    },
    {
     "name": "stdout",
     "output_type": "stream",
     "text": [
      "0.00013120777502938913\n"
     ]
    },
    {
     "name": "stderr",
     "output_type": "stream",
     "text": [
      "100%|██████████| 100/100 [00:20<00:00,  4.83it/s]\n"
     ]
    },
    {
     "name": "stdout",
     "output_type": "stream",
     "text": [
      "0.00011140435806147875\n"
     ]
    },
    {
     "name": "stderr",
     "output_type": "stream",
     "text": [
      "100%|██████████| 100/100 [00:24<00:00,  4.03it/s]\n"
     ]
    },
    {
     "name": "stdout",
     "output_type": "stream",
     "text": [
      "0.00021422365481917408\n"
     ]
    },
    {
     "name": "stderr",
     "output_type": "stream",
     "text": [
      "100%|██████████| 100/100 [00:24<00:00,  4.06it/s]\n"
     ]
    },
    {
     "name": "stdout",
     "output_type": "stream",
     "text": [
      "0.0013722671103888473\n"
     ]
    },
    {
     "name": "stderr",
     "output_type": "stream",
     "text": [
      "100%|██████████| 100/100 [00:18<00:00,  5.31it/s]\n"
     ]
    },
    {
     "name": "stdout",
     "output_type": "stream",
     "text": [
      "0.0016191312049995688\n"
     ]
    },
    {
     "name": "stderr",
     "output_type": "stream",
     "text": [
      "100%|██████████| 100/100 [00:18<00:00,  5.52it/s]\n"
     ]
    },
    {
     "name": "stdout",
     "output_type": "stream",
     "text": [
      "0.0018135145706255074\n"
     ]
    },
    {
     "name": "stderr",
     "output_type": "stream",
     "text": [
      "100%|██████████| 100/100 [00:18<00:00,  5.41it/s]\n"
     ]
    },
    {
     "name": "stdout",
     "output_type": "stream",
     "text": [
      "0.0018952549687978326\n"
     ]
    },
    {
     "name": "stderr",
     "output_type": "stream",
     "text": [
      "100%|██████████| 100/100 [00:18<00:00,  5.41it/s]\n"
     ]
    },
    {
     "name": "stdout",
     "output_type": "stream",
     "text": [
      "0.001577873172287081\n"
     ]
    },
    {
     "name": "stderr",
     "output_type": "stream",
     "text": [
      "100%|██████████| 100/100 [00:18<00:00,  5.33it/s]\n"
     ]
    },
    {
     "name": "stdout",
     "output_type": "stream",
     "text": [
      "0.001594773445634523\n"
     ]
    },
    {
     "name": "stderr",
     "output_type": "stream",
     "text": [
      "100%|██████████| 100/100 [00:21<00:00,  4.56it/s]\n"
     ]
    },
    {
     "name": "stdout",
     "output_type": "stream",
     "text": [
      "0.0017857927088749115\n"
     ]
    },
    {
     "name": "stderr",
     "output_type": "stream",
     "text": [
      "100%|██████████| 100/100 [00:20<00:00,  4.93it/s]\n"
     ]
    },
    {
     "name": "stdout",
     "output_type": "stream",
     "text": [
      "0.001929609326906112\n"
     ]
    },
    {
     "name": "stderr",
     "output_type": "stream",
     "text": [
      "100%|██████████| 100/100 [00:19<00:00,  5.02it/s]\n"
     ]
    },
    {
     "name": "stdout",
     "output_type": "stream",
     "text": [
      "0.0016840640333359858\n"
     ]
    },
    {
     "name": "stderr",
     "output_type": "stream",
     "text": [
      "100%|██████████| 100/100 [00:20<00:00,  4.99it/s]\n"
     ]
    },
    {
     "name": "stdout",
     "output_type": "stream",
     "text": [
      "0.001748333232076682\n"
     ]
    },
    {
     "name": "stderr",
     "output_type": "stream",
     "text": [
      "100%|██████████| 100/100 [00:21<00:00,  4.75it/s]\n"
     ]
    },
    {
     "name": "stdout",
     "output_type": "stream",
     "text": [
      "0.001723857915303384\n"
     ]
    },
    {
     "name": "stderr",
     "output_type": "stream",
     "text": [
      "100%|██████████| 100/100 [00:20<00:00,  4.92it/s]\n"
     ]
    },
    {
     "name": "stdout",
     "output_type": "stream",
     "text": [
      "0.001707902217207291\n"
     ]
    },
    {
     "name": "stderr",
     "output_type": "stream",
     "text": [
      "100%|██████████| 100/100 [00:18<00:00,  5.52it/s]\n"
     ]
    },
    {
     "name": "stdout",
     "output_type": "stream",
     "text": [
      "0.001903217287435588\n"
     ]
    },
    {
     "name": "stderr",
     "output_type": "stream",
     "text": [
      "100%|██████████| 100/100 [00:18<00:00,  5.51it/s]\n"
     ]
    },
    {
     "name": "stdout",
     "output_type": "stream",
     "text": [
      "0.0015592219286819642\n"
     ]
    },
    {
     "name": "stderr",
     "output_type": "stream",
     "text": [
      "100%|██████████| 100/100 [00:18<00:00,  5.33it/s]\n"
     ]
    },
    {
     "name": "stdout",
     "output_type": "stream",
     "text": [
      "0.0017407381835421454\n"
     ]
    },
    {
     "name": "stderr",
     "output_type": "stream",
     "text": [
      "100%|██████████| 100/100 [00:18<00:00,  5.49it/s]\n"
     ]
    },
    {
     "name": "stdout",
     "output_type": "stream",
     "text": [
      "0.001977974277811434\n"
     ]
    },
    {
     "name": "stderr",
     "output_type": "stream",
     "text": [
      "100%|██████████| 100/100 [00:20<00:00,  4.90it/s]\n"
     ]
    },
    {
     "name": "stdout",
     "output_type": "stream",
     "text": [
      "0.001642918120658976\n"
     ]
    },
    {
     "name": "stderr",
     "output_type": "stream",
     "text": [
      "100%|██████████| 100/100 [00:20<00:00,  4.84it/s]"
     ]
    },
    {
     "name": "stdout",
     "output_type": "stream",
     "text": [
      "0.0017925383386518945\n"
     ]
    },
    {
     "name": "stderr",
     "output_type": "stream",
     "text": [
      "\n"
     ]
    }
   ],
   "source": [
    "# train: kappa penalization\n",
    "\n",
    "start = time.time()\n",
    "\n",
    "baseline_kappa = TDFilterbank(spec, w_init)\n",
    "losses_kappa, conditions_kappa = train(\n",
    "    baseline=baseline_kappa,\n",
    "    penalization='kappa',\n",
    "    lr=lr,\n",
    "    beta_k=beta_k,\n",
    "    beta_S=beta_S,\n",
    "    n_epochs=n_epochs,\n",
    "    epoch_size=epoch_size)\n",
    "\n",
    "end = time.time()\n",
    "time_kappa = end - start\n",
    "\n",
    "np.save('values/Parseval_losses_kappa.npy',losses_kappa)\n",
    "np.save('values/Parseval_conditions_kappa.npy',conditions_kappa)"
   ]
  },
  {
   "cell_type": "code",
   "execution_count": null,
   "metadata": {},
   "outputs": [],
   "source": [
    "# train: S penalization\n",
    "\n",
    "start = time.time()\n",
    "\n",
    "baseline_S = TDFilterbank(spec, w_init)\n",
    "losses_S, conditions_S = train(\n",
    "    baseline=baseline_S,\n",
    "    penalization='S',\n",
    "    lr=lr,\n",
    "    beta_k=beta_k,\n",
    "    beta_S=beta_S,\n",
    "    n_epochs=n_epochs,\n",
    "    epoch_size=epoch_size)\n",
    "\n",
    "end = time.time()\n",
    "time_S = end - start\n",
    "\n",
    "np.save('values/Parseval_losses_S.npy',losses_S)\n",
    "np.save('values/Parseval_conditions_S.npy',conditions_S)"
   ]
  },
  {
   "cell_type": "code",
   "execution_count": null,
   "metadata": {},
   "outputs": [
    {
     "data": {
      "image/png": "[encoded data removed]",
      "text/plain": [
       "<Figure size 600x400 with 2 Axes>"
      ]
     },
     "metadata": {},
     "output_type": "display_data"
    }
   ],
   "source": [
    "# plot losses and condition numbers over epochs\n",
    "\n",
    "plt.rcParams['text.usetex'] = False\n",
    "\n",
    "fig, axes = plt.subplots(2, 1, figsize=(6, 4), sharex=True)\n",
    "Ts = np.arange(0, n_epochs+1)\n",
    "\n",
    "ax = axes[0]\n",
    "ax.plot(Ts, losses_no, 'tab:blue', linewidth=2)\n",
    "ax.plot(Ts, losses_kappa, 'tab:green', linewidth=2)\n",
    "ax.plot(Ts, losses_S, 'tab:orange', linewidth=2)\n",
    "# semilogy\n",
    "ax.set_yscale('log')\n",
    "\n",
    "ax.set_title('MSE')\n",
    "ax.grid(linestyle='--', alpha=0.5)\n",
    "\n",
    "ax = axes[1]\n",
    "ax.plot(Ts, conditions_no, 'tab:blue', linewidth=2, label='$P(\\Phi) = 0$')\n",
    "ax.plot(Ts, conditions_kappa, 'tab:green', linewidth=2, label='$P(\\Phi) = \\kappa$')\n",
    "ax.plot(Ts, conditions_S, 'tab:orange', linewidth=2, label = '$P(\\Phi) = \\Vert S-I \\Vert^2$')\n",
    "ax.plot(Ts, np.ones(len(Ts)), 'tab:red', linewidth=2, linestyle='--', label = 'Tight target')\n",
    "\n",
    "ax.set_title('Condition numbers')\n",
    "ax.set_xlabel('Epochs')\n",
    "ax.grid(linestyle='--', alpha=0.5)\n",
    "ax.legend(loc='upper right')\n",
    "\n",
    "plt.tight_layout()\n",
    "\n",
    "plt.savefig('Reproducing_Random_Tightness.pdf', bbox_inches='tight')"
   ]
  },
  {
   "cell_type": "code",
   "execution_count": null,
   "metadata": {},
   "outputs": [
    {
     "name": "stdout",
     "output_type": "stream",
     "text": [
      "$P(\\Phi) = 0: $ 0.3453894000053406 sec/epoch\n",
      "$P(\\Phi) = \\kappa: $ 0.35364655407269796 sec/epoch\n",
      "$P(\\Phi) = \\Vert S-I \\Vert^2:$ 0.4396249686876933 sec/epoch\n",
      "Ours is 1.2431196165347649 times faster than using S and  1.0239067964078508 times slower than using no regularizer.\n"
     ]
    }
   ],
   "source": [
    "print('No penalization', time_no/60/n_epochs, 'sec/epoch')\n",
    "print('Kappa penalization', time_kappa/60/n_epochs, 'sec/epoch')\n",
    "print('S penalization', time_S/60/n_epochs, 'sec/epoch')\n",
    "print('Kappa penal. is', time_S/time_kappa, 'times faster than S penal')\n",
    "print('Kappa penal. is', time_kappa/time_no, 'times slower than no penal.')"
   ]
  },
  {
   "cell_type": "code",
   "execution_count": null,
   "metadata": {},
   "outputs": [],
   "source": []
  }
 ],
 "metadata": {
  "kernelspec": {
   "display_name": "alpharect",
   "language": "python",
   "name": "python3"
  },
  "language_info": {
   "codemirror_mode": {
    "name": "ipython",
    "version": 3
   },
   "file_extension": ".py",
   "mimetype": "text/x-python",
   "name": "python",
   "nbconvert_exporter": "python",
   "pygments_lexer": "ipython3",
   "version": "3.8.16 | packaged by conda-forge | (default, Feb  1 2023, 16:05:36) \n[Clang 14.0.6 ]"
  },
  "orig_nbformat": 4,
  "vscode": {
   "interpreter": {
    "hash": "69599b8b230edd595963a4c28761c9972651de0c85749bedb88c2c1597573974"
   }
  }
 },
 "nbformat": 4,
 "nbformat_minor": 2
}
