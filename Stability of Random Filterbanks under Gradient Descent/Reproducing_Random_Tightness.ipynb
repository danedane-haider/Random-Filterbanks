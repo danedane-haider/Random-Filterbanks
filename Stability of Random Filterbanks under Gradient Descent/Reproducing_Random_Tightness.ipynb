{
 "cells": [
  {
   "cell_type": "code",
   "execution_count": 1,
   "metadata": {},
   "outputs": [],
   "source": [
    "import numpy as np\n",
    "import scipy.signal\n",
    "import torch\n",
    "import matplotlib\n",
    "%matplotlib inline\n",
    "from matplotlib import pyplot as plt\n",
    "from collections import Counter\n",
    "import torchaudio\n",
    "import itertools\n",
    "import tqdm\n",
    "import torch.nn.functional as F\n",
    "import scipy as sp\n",
    "import torch.nn as nn\n",
    "import fb"
   ]
  },
  {
   "cell_type": "code",
   "execution_count": 20,
   "metadata": {},
   "outputs": [],
   "source": [
    "HYPERPARAMS = {\n",
    "    \"synth\": {\n",
    "        \"N\": 1032,\n",
    "        \"J\": 40,\n",
    "        \"T\": 512,\n",
    "        \"sr\": 16000,\n",
    "        \"fmin\": 64,\n",
    "        \"fmax\": 8000,\n",
    "        \"batch_size\": 32\n",
    "    },\n",
    "}\n",
    "\n",
    "spec = HYPERPARAMS[\"synth\"]"
   ]
  },
  {
   "cell_type": "code",
   "execution_count": 21,
   "metadata": {},
   "outputs": [],
   "source": [
    "# create a random filterbank and its tightened version\n",
    "\n",
    "w_init, w_tight = fb.random_filterbank(spec[\"N\"], spec[\"J\"], spec[\"T\"], tight=True, to_torch=True)"
   ]
  },
  {
   "cell_type": "code",
   "execution_count": 29,
   "metadata": {},
   "outputs": [],
   "source": [
    "synth = fb.generate_random_sine(\n",
    "    spec[\"sr\"],\n",
    "    spec[\"fmin\"],\n",
    "    spec[\"fmax\"],\n",
    "    spec[\"N\"],\n",
    "    spec[\"batch_size\"])"
   ]
  },
  {
   "cell_type": "code",
   "execution_count": 30,
   "metadata": {},
   "outputs": [
    {
     "name": "stdout",
     "output_type": "stream",
     "text": [
      "TDFilterbank_real(\n",
      "  (psi): Conv1d(1, 40, kernel_size=(512,), stride=(1,), bias=False)\n",
      ")\n"
     ]
    }
   ],
   "source": [
    "# conv1D layer with circulant boundary conditions\n",
    "\n",
    "class TDFilterbank_real(torch.nn.Module):\n",
    "    def __init__(self, spec, w):\n",
    "        super().__init__()\n",
    "        \n",
    "        self.psi = torch.nn.Conv1d(\n",
    "            in_channels=1,\n",
    "            out_channels=spec[\"J\"],\n",
    "            kernel_size=spec[\"T\"],\n",
    "            stride=1,\n",
    "            padding=0,\n",
    "            bias=False)\n",
    "        \n",
    "        # initialize the filters to be w_init\n",
    "        self.psi.weight.data = w[:, :spec[\"T\"]].unsqueeze(1).float()\n",
    "    \n",
    "    def forward(self, x):\n",
    "        x = x.reshape(x.shape[0], 1, x.shape[-1])\n",
    "        x = F.pad(x, (0, spec[\"T\"]-1), mode='circular',)\n",
    "        Wx = self.psi(x)\n",
    "        Ux = torch.abs(Wx)\n",
    "        return Ux\n",
    "    \n",
    "baseline = TDFilterbank_real(spec, w_init)\n",
    "print(baseline)"
   ]
  },
  {
   "cell_type": "code",
   "execution_count": 62,
   "metadata": {},
   "outputs": [],
   "source": [
    "# loss functions with penalization terms\n",
    "\n",
    "# penalizing large kappa\n",
    "\n",
    "class KappaLoss(nn.Module):\n",
    "    def __init__(self):\n",
    "        super(KappaLoss, self).__init__()\n",
    "        self.loss = nn.MSELoss()\n",
    "\n",
    "    def forward(self, inputs, targets, w):\n",
    "        w = torch.cat((w,torch.zeros([spec[\"J\"], spec[\"N\"]-spec[\"T\"]])),dim=1)\n",
    "        w_hat = torch.sum(torch.abs(torch.fft.fft(w,dim=1))**2,dim=0)\n",
    "        Lam_max = torch.max(w_hat,dim=0).values\n",
    "        Lam_min = torch.min(w_hat,dim=0).values\n",
    "        loss = torch.mean(self.loss(inputs, targets)) + 0.005*Lam_max/Lam_min\n",
    "        return loss\n",
    "    \n",
    "# penalizing large ||S - I||^2\n",
    "    \n",
    "class SLoss(nn.Module):\n",
    "   def __init__(self):\n",
    "       super(SLoss, self).__init__()\n",
    "\n",
    "   def forward(self, inputs, targets, w):\n",
    "       w = torch.cat((w,torch.zeros([spec[\"J\"], spec[\"N\"]-spec[\"T\"]])),dim=1)\n",
    "       W = fb.circulant(w)\n",
    "       S = torch.matmul(W.T,W)\n",
    "       I = torch.eye(S.shape[0])\n",
    "       loss = torch.mean(torch.abs(inputs - targets)**2) + 0.001*torch.norm(S-I)**2\n",
    "       return loss\n",
    "    \n",
    "# penalizing large ||diag(S) - I||^2\n",
    "    \n",
    "# class DiagSLoss(nn.Module):\n",
    "#     def __init__(self):\n",
    "#         super(DiagSLoss, self).__init__()\n",
    "\n",
    "#     def forward(self, inputs, targets, w):\n",
    "#         S = fb.S_diag(w)\n",
    "#         loss = torch.mean(torch.abs(inputs - targets)**2) + 0.01*torch.norm(S-1)**2\n",
    "#         return loss"
   ]
  },
  {
   "cell_type": "code",
   "execution_count": 63,
   "metadata": {},
   "outputs": [],
   "source": [
    "# training function\n",
    "\n",
    "def train(baseline, penalization, lr, n_epochs, epoch_size):\n",
    "    optimizer = torch.optim.SGD(baseline.parameters(), lr=lr)\n",
    "    mse = torch.nn.MSELoss()\n",
    "    if penalization == 'mse':\n",
    "        criterion = torch.nn.MSELoss() \n",
    "    if penalization == 'kappa':\n",
    "        criterion = KappaLoss() \n",
    "    if penalization == 'S':\n",
    "        criterion = SLoss() \n",
    "    # if penalization == 'diagS':\n",
    "    #     criterion = DiagSLoss() \n",
    "    losses = []\n",
    "    conditions = []\n",
    "\n",
    "    w = baseline.psi.weight.detach().numpy()[:,0,:]\n",
    "    w = np.concatenate((w,np.zeros([spec[\"J\"], spec[\"N\"]-spec[\"T\"]])),axis=1)\n",
    "    A,B = fb.frame_bounds_lp(w)\n",
    "    conditions.append(B/A)\n",
    "\n",
    "    running_loss = 0.0\n",
    "    for _ in range(epoch_size):\n",
    "        inputs = next(synth)\n",
    "        outputs = baseline(inputs)\n",
    "        targets = fb.filterbank_response(inputs, w_tight, mag=True)\n",
    "        w = baseline.psi.weight[:,0,:]\n",
    "        loss = mse(outputs, targets)\n",
    "        running_loss += loss.item()\n",
    "    print(1000 * running_loss)\n",
    "    losses.append(running_loss)\n",
    "\n",
    "    for _ in range(n_epochs):\n",
    "        running_loss = 0.0\n",
    "        for i in tqdm.tqdm(range(epoch_size)):\n",
    "            inputs = next(synth)\n",
    "            optimizer.zero_grad()\n",
    "            outputs = baseline(inputs)\n",
    "            targets = fb.filterbank_response(inputs, w_tight, mag=True)\n",
    "            if penalization == 'mse':\n",
    "                loss = mse(outputs, targets)\n",
    "                loss.backward()\n",
    "                optimizer.step()\n",
    "                running_loss += loss.item()\n",
    "            if penalization == 'kappa':\n",
    "                w = baseline.psi.weight[:,0,:]\n",
    "                loss = criterion(outputs, targets, w)\n",
    "                loss.backward()\n",
    "                optimizer.step()\n",
    "                loss2 = mse(outputs, targets)\n",
    "                running_loss += loss2.item()\n",
    "            if penalization == 'S':# or penalization == 'diagS':\n",
    "                # use this loss only every 10th iteration\n",
    "                if np.mod(i+1,25) == 0:\n",
    "                    w = baseline.psi.weight[:,0,:]\n",
    "                    loss = criterion(outputs, targets, w)\n",
    "                    loss.backward()\n",
    "                    optimizer.step()\n",
    "                else:\n",
    "                    loss = mse(outputs, targets)\n",
    "                    loss.backward()\n",
    "                    optimizer.step()                \n",
    "                    loss2 = mse(outputs, targets)\n",
    "                    running_loss += loss2.item()\n",
    "        losses.append(running_loss)\n",
    "        w = baseline.psi.weight.detach().numpy()[:,0,:]\n",
    "        w = np.concatenate((w,np.zeros([spec[\"J\"], spec[\"N\"]-spec[\"T\"]])),axis=1)\n",
    "        A,B = fb.frame_bounds_lp(w)\n",
    "        conditions.append(B/A)\n",
    "        print(1000 * running_loss)\n",
    "\n",
    "    return losses, conditions"
   ]
  },
  {
   "cell_type": "code",
   "execution_count": 64,
   "metadata": {},
   "outputs": [],
   "source": [
    "n_epochs = 20\n",
    "epoch_size = 50\n",
    "lr = 0.001"
   ]
  },
  {
   "cell_type": "code",
   "execution_count": 65,
   "metadata": {},
   "outputs": [
    {
     "name": "stdout",
     "output_type": "stream",
     "text": [
      "3.9675137304584496\n"
     ]
    },
    {
     "name": "stderr",
     "output_type": "stream",
     "text": [
      "100%|██████████| 50/50 [00:07<00:00,  6.38it/s]\n"
     ]
    },
    {
     "name": "stdout",
     "output_type": "stream",
     "text": [
      "3.7534674629569054\n"
     ]
    },
    {
     "name": "stderr",
     "output_type": "stream",
     "text": [
      "100%|██████████| 50/50 [00:07<00:00,  7.09it/s]\n"
     ]
    },
    {
     "name": "stdout",
     "output_type": "stream",
     "text": [
      "3.4522406895121094\n"
     ]
    },
    {
     "name": "stderr",
     "output_type": "stream",
     "text": [
      "100%|██████████| 50/50 [00:07<00:00,  6.52it/s]\n"
     ]
    },
    {
     "name": "stdout",
     "output_type": "stream",
     "text": [
      "3.227653000067221\n"
     ]
    },
    {
     "name": "stderr",
     "output_type": "stream",
     "text": [
      "100%|██████████| 50/50 [00:07<00:00,  6.91it/s]\n"
     ]
    },
    {
     "name": "stdout",
     "output_type": "stream",
     "text": [
      "3.0067905245232396\n"
     ]
    },
    {
     "name": "stderr",
     "output_type": "stream",
     "text": [
      "100%|██████████| 50/50 [00:06<00:00,  7.35it/s]\n"
     ]
    },
    {
     "name": "stdout",
     "output_type": "stream",
     "text": [
      "2.859631975297816\n"
     ]
    },
    {
     "name": "stderr",
     "output_type": "stream",
     "text": [
      "100%|██████████| 50/50 [00:06<00:00,  7.44it/s]\n"
     ]
    },
    {
     "name": "stdout",
     "output_type": "stream",
     "text": [
      "2.75469013286056\n"
     ]
    },
    {
     "name": "stderr",
     "output_type": "stream",
     "text": [
      "100%|██████████| 50/50 [00:06<00:00,  7.35it/s]\n"
     ]
    },
    {
     "name": "stdout",
     "output_type": "stream",
     "text": [
      "2.5900201871991158\n"
     ]
    },
    {
     "name": "stderr",
     "output_type": "stream",
     "text": [
      "100%|██████████| 50/50 [00:07<00:00,  6.88it/s]\n"
     ]
    },
    {
     "name": "stdout",
     "output_type": "stream",
     "text": [
      "2.545089020713931\n"
     ]
    },
    {
     "name": "stderr",
     "output_type": "stream",
     "text": [
      "100%|██████████| 50/50 [00:09<00:00,  5.17it/s]\n"
     ]
    },
    {
     "name": "stdout",
     "output_type": "stream",
     "text": [
      "2.3712086149316747\n"
     ]
    },
    {
     "name": "stderr",
     "output_type": "stream",
     "text": [
      "100%|██████████| 50/50 [00:06<00:00,  7.41it/s]\n"
     ]
    },
    {
     "name": "stdout",
     "output_type": "stream",
     "text": [
      "2.329074442968704\n"
     ]
    },
    {
     "name": "stderr",
     "output_type": "stream",
     "text": [
      "100%|██████████| 50/50 [00:07<00:00,  6.97it/s]\n"
     ]
    },
    {
     "name": "stdout",
     "output_type": "stream",
     "text": [
      "2.264842156364466\n"
     ]
    },
    {
     "name": "stderr",
     "output_type": "stream",
     "text": [
      "100%|██████████| 50/50 [00:07<00:00,  7.05it/s]\n"
     ]
    },
    {
     "name": "stdout",
     "output_type": "stream",
     "text": [
      "2.1902034131926484\n"
     ]
    },
    {
     "name": "stderr",
     "output_type": "stream",
     "text": [
      "100%|██████████| 50/50 [00:06<00:00,  7.30it/s]\n"
     ]
    },
    {
     "name": "stdout",
     "output_type": "stream",
     "text": [
      "2.1285196853568777\n"
     ]
    },
    {
     "name": "stderr",
     "output_type": "stream",
     "text": [
      "100%|██████████| 50/50 [00:06<00:00,  7.34it/s]\n"
     ]
    },
    {
     "name": "stdout",
     "output_type": "stream",
     "text": [
      "2.049514132522745\n"
     ]
    },
    {
     "name": "stderr",
     "output_type": "stream",
     "text": [
      "100%|██████████| 50/50 [00:09<00:00,  5.13it/s]\n"
     ]
    },
    {
     "name": "stdout",
     "output_type": "stream",
     "text": [
      "2.016497997828992\n"
     ]
    },
    {
     "name": "stderr",
     "output_type": "stream",
     "text": [
      "100%|██████████| 50/50 [00:09<00:00,  5.23it/s]\n"
     ]
    },
    {
     "name": "stdout",
     "output_type": "stream",
     "text": [
      "1.9904775836039335\n"
     ]
    },
    {
     "name": "stderr",
     "output_type": "stream",
     "text": [
      "100%|██████████| 50/50 [00:07<00:00,  7.09it/s]\n"
     ]
    },
    {
     "name": "stdout",
     "output_type": "stream",
     "text": [
      "1.9471894993330352\n"
     ]
    },
    {
     "name": "stderr",
     "output_type": "stream",
     "text": [
      "100%|██████████| 50/50 [00:06<00:00,  7.28it/s]\n"
     ]
    },
    {
     "name": "stdout",
     "output_type": "stream",
     "text": [
      "1.89229255556711\n"
     ]
    },
    {
     "name": "stderr",
     "output_type": "stream",
     "text": [
      "100%|██████████| 50/50 [00:06<00:00,  7.21it/s]\n"
     ]
    },
    {
     "name": "stdout",
     "output_type": "stream",
     "text": [
      "1.8997094630321953\n"
     ]
    },
    {
     "name": "stderr",
     "output_type": "stream",
     "text": [
      "100%|██████████| 50/50 [00:06<00:00,  7.16it/s]"
     ]
    },
    {
     "name": "stdout",
     "output_type": "stream",
     "text": [
      "1.8742643333098385\n"
     ]
    },
    {
     "name": "stderr",
     "output_type": "stream",
     "text": [
      "\n"
     ]
    }
   ],
   "source": [
    "# baseline = TDFilterbank_real(spec, w_init)\n",
    "# losses_mse, conditions_mse = train(\n",
    "#     baseline=baseline,\n",
    "#     penalization='mse',\n",
    "#     lr=lr,\n",
    "#     n_epochs=n_epochs,\n",
    "#     epoch_size=epoch_size)\n",
    "\n",
    "baseline = TDFilterbank_real(spec, w_init)\n",
    "losses_kappa, conditions_kappa = train(\n",
    "    baseline=baseline,\n",
    "    penalization='kappa',\n",
    "    lr=lr,\n",
    "    n_epochs=n_epochs,\n",
    "    epoch_size=epoch_size)\n",
    "\n",
    "# baseline = TDFilterbank_real(spec, w_init)\n",
    "# losses_fo, conditions_fo = train(\n",
    "#     baseline=baseline,\n",
    "#     penalization='S',\n",
    "#     lr=lr,\n",
    "#     n_epochs=n_epochs,\n",
    "#     epoch_size=epoch_size)"
   ]
  },
  {
   "cell_type": "code",
   "execution_count": 66,
   "metadata": {},
   "outputs": [
    {
     "data": {
      "image/png": "[encoded data removed]",
      "text/plain": [
       "<Figure size 600x400 with 2 Axes>"
      ]
     },
     "metadata": {},
     "output_type": "display_data"
    }
   ],
   "source": [
    "# plot losses and condition numbers over epochs\n",
    "\n",
    "plt.rcParams['text.usetex'] = False\n",
    "\n",
    "fig, axes = plt.subplots(2, 1, figsize=(6, 4), sharex=True)\n",
    "Ts = np.arange(0, n_epochs+1)\n",
    "\n",
    "ax = axes[0]\n",
    "ax.plot(Ts, losses_mse, 'tab:blue', linewidth=2, label='$P(\\Phi) = 0$')\n",
    "ax.plot(Ts, losses_kappa, 'tab:green', linewidth=2, label='$P(\\Phi) = \\kappa$')\n",
    "ax.plot(Ts, losses_fo, 'tab:orange', linewidth=2, label = '$P(\\Phi) = \\Vert S-I \\Vert^2$')\n",
    "\n",
    "ax.set_title('Losses')\n",
    "ax.legend(loc='upper right')\n",
    "ax.grid(linestyle='--', alpha=0.5)\n",
    "\n",
    "ax = axes[1]\n",
    "ax.plot(Ts, conditions_mse, 'tab:blue', linewidth=2)\n",
    "ax.plot(Ts, conditions_kappa, 'tab:green', linewidth=2, marker = 'd')\n",
    "ax.plot(Ts, conditions_fo, 'tab:orange', linewidth=2, marker = 's')\n",
    "ax.plot(Ts, np.ones(len(Ts)), 'tab:red', linewidth=2, linestyle='--')\n",
    "\n",
    "ax.set_title('Condition numbers')\n",
    "ax.set_xlabel('Epochs')\n",
    "ax.grid(linestyle='--', alpha=0.5)\n",
    "\n",
    "plt.tight_layout()\n",
    "\n",
    "plt.savefig('Reproducing_Random_Tightness.pdf', bbox_inches='tight')"
   ]
  },
  {
   "cell_type": "code",
   "execution_count": 72,
   "metadata": {},
   "outputs": [],
   "source": [
    "# save w_init and w_tight_fir as input for the next notebook\n",
    "w_tight_fir = baseline.psi.weight.detach().numpy()[:,0,:]\n",
    "w_tight_fir = np.concatenate((w_tight_fir,np.zeros([spec[\"J\"], spec[\"N\"]-spec[\"T\"]])),axis=1)\n",
    "np.save('w_init.npy', w_init)\n",
    "np.save('w_tight_fir.npy', w_tight_fir)"
   ]
  },
  {
   "cell_type": "code",
   "execution_count": null,
   "metadata": {},
   "outputs": [],
   "source": []
  }
 ],
 "metadata": {
  "kernelspec": {
   "display_name": "alpharect",
   "language": "python",
   "name": "python3"
  },
  "language_info": {
   "codemirror_mode": {
    "name": "ipython",
    "version": 3
   },
   "file_extension": ".py",
   "mimetype": "text/x-python",
   "name": "python",
   "nbconvert_exporter": "python",
   "pygments_lexer": "ipython3",
   "version": "3.8.16"
  },
  "orig_nbformat": 4,
  "vscode": {
   "interpreter": {
    "hash": "69599b8b230edd595963a4c28761c9972651de0c85749bedb88c2c1597573974"
   }
  }
 },
 "nbformat": 4,
 "nbformat_minor": 2
}
