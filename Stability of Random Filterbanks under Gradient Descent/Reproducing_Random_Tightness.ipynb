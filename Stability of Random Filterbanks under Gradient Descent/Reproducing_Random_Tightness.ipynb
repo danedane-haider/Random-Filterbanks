{
 "cells": [
  {
   "cell_type": "code",
   "execution_count": 1,
   "metadata": {},
   "outputs": [],
   "source": [
    "import numpy as np\n",
    "import scipy.signal\n",
    "import torch\n",
    "import matplotlib\n",
    "%matplotlib inline\n",
    "from matplotlib import pyplot as plt\n",
    "from collections import Counter\n",
    "import torchaudio\n",
    "import itertools\n",
    "import tqdm\n",
    "import torch.nn.functional as F\n",
    "import scipy as sp\n",
    "import torch.nn as nn\n",
    "import fb"
   ]
  },
  {
   "cell_type": "code",
   "execution_count": 2,
   "metadata": {},
   "outputs": [],
   "source": [
    "HYPERPARAMS = {\n",
    "    \"synth\": {\n",
    "        \"N\": 1024,\n",
    "        \"J\": 10,\n",
    "        \"T\": 64,\n",
    "        \"sr\": 16000,\n",
    "        \"fmin\": 64,\n",
    "        \"fmax\": 8000,\n",
    "        \"batch_size\": 32\n",
    "    },\n",
    "}\n",
    "\n",
    "spec = HYPERPARAMS[\"synth\"]"
   ]
  },
  {
   "cell_type": "code",
   "execution_count": 3,
   "metadata": {},
   "outputs": [],
   "source": [
    "# create a random filterbank and its tightened version\n",
    "\n",
    "w_init, w_tight = fb.random_filterbank(spec[\"N\"], spec[\"J\"], spec[\"T\"], tight=True, to_torch=True)"
   ]
  },
  {
   "cell_type": "code",
   "execution_count": 4,
   "metadata": {},
   "outputs": [],
   "source": [
    "synth = fb.generate_random_sine(\n",
    "    spec[\"sr\"],\n",
    "    spec[\"fmin\"],\n",
    "    spec[\"fmax\"],\n",
    "    spec[\"N\"],\n",
    "    spec[\"batch_size\"])"
   ]
  },
  {
   "cell_type": "code",
   "execution_count": 5,
   "metadata": {},
   "outputs": [
    {
     "name": "stdout",
     "output_type": "stream",
     "text": [
      "TDFilterbank_real(\n",
      "  (psi): Conv1d(1, 10, kernel_size=(64,), stride=(1,), bias=False)\n",
      ")\n"
     ]
    }
   ],
   "source": [
    "# conv1D layer with circulant boundary conditions\n",
    "\n",
    "class TDFilterbank_real(torch.nn.Module):\n",
    "    def __init__(self, spec, w_init):\n",
    "        super().__init__()\n",
    "        \n",
    "        self.psi = torch.nn.Conv1d(\n",
    "            in_channels=1,\n",
    "            out_channels=spec[\"J\"],\n",
    "            kernel_size=spec[\"T\"],\n",
    "            stride=1,\n",
    "            padding=0,\n",
    "            bias=False)\n",
    "        \n",
    "        # initialize the filters to be w_init\n",
    "        self.psi.weight.data = w_init[:, :spec[\"T\"]].unsqueeze(1).float()\n",
    "    \n",
    "    def forward(self, x):\n",
    "        x = x.reshape(x.shape[0], 1, x.shape[-1])\n",
    "        x = F.pad(x, (0, spec[\"T\"]-1), mode='circular',)\n",
    "        Wx = self.psi(x)\n",
    "        Ux = torch.abs(Wx)\n",
    "        return Ux\n",
    "    \n",
    "baseline = TDFilterbank_real(spec, w_init)\n",
    "print(baseline)"
   ]
  },
  {
   "cell_type": "code",
   "execution_count": 10,
   "metadata": {},
   "outputs": [],
   "source": [
    "# loss functions with penalization terms\n",
    "\n",
    "# penalizing large kappa\n",
    "\n",
    "class CondLoss(nn.Module):\n",
    "    def __init__(self):\n",
    "        super(CondLoss, self).__init__()\n",
    "\n",
    "    def forward(self, inputs, targets, w):\n",
    "        w = torch.cat((w,torch.zeros([spec[\"J\"], spec[\"N\"]-spec[\"T\"]])),dim=1)\n",
    "        w_hat = torch.sum(torch.abs(torch.fft.fft(w,dim=1))**2,dim=0)\n",
    "        Lam_max = torch.max(w_hat,dim=0).values\n",
    "        Lam_min = torch.min(w_hat,dim=0).values\n",
    "        loss = torch.mean(torch.abs(inputs - targets)**2) + 0.01*Lam_max/Lam_min\n",
    "        return loss\n",
    "    \n",
    "# penalizing large ||W^T W - I||^2\n",
    "    \n",
    "class NormLoss(nn.Module):\n",
    "    def __init__(self):\n",
    "        super(NormLoss, self).__init__()\n",
    "\n",
    "    def forward(self, inputs, targets, w):\n",
    "        w = torch.cat((w,torch.zeros([spec[\"J\"], spec[\"N\"]-spec[\"T\"]])),dim=1)\n",
    "        W = fb.circulant(w)\n",
    "        S = torch.matmul(W.T,W)\n",
    "        I = torch.eye(S.shape[0])\n",
    "        loss = torch.mean(torch.abs(inputs - targets)**2) + 0.01*torch.norm(S-I)**2\n",
    "        return loss"
   ]
  },
  {
   "cell_type": "code",
   "execution_count": 11,
   "metadata": {},
   "outputs": [],
   "source": [
    "# training function\n",
    "\n",
    "def train(baseline, penalization, lr, n_epochs, epoch_size):\n",
    "    optimizer = torch.optim.Adam(baseline.parameters(), lr=lr)\n",
    "    mse = torch.nn.MSELoss()\n",
    "    if penalization == 'mse':\n",
    "        criterion = torch.nn.MSELoss() \n",
    "    if penalization == 'kappa':\n",
    "        criterion = CondLoss() \n",
    "    if penalization == 'frameop':\n",
    "        criterion = NormLoss() \n",
    "    losses = []\n",
    "    conditions = []\n",
    "\n",
    "    w = baseline.psi.weight.detach().numpy()[:,0,:]\n",
    "    w = np.concatenate((w,np.zeros([spec[\"J\"], spec[\"N\"]-spec[\"T\"]])),axis=1)\n",
    "    A,B = fb.frame_bounds_lp(w)\n",
    "    conditions.append(B/A)\n",
    "\n",
    "    running_loss = 0.0\n",
    "    for _ in range(epoch_size):\n",
    "        inputs = next(synth)\n",
    "        outputs = baseline(inputs)\n",
    "        targets = fb.filterbank_response(inputs, w_tight)\n",
    "        w = baseline.psi.weight[:,0,:]\n",
    "        loss = mse(outputs, targets)\n",
    "        running_loss += loss.item()\n",
    "    print(1000 * running_loss)\n",
    "    losses.append(running_loss)\n",
    "\n",
    "    for _ in range(n_epochs):\n",
    "        running_loss = 0.0\n",
    "        for i in tqdm.tqdm(range(epoch_size)):\n",
    "            inputs = next(synth)\n",
    "            optimizer.zero_grad()\n",
    "            outputs = baseline(inputs)\n",
    "            targets = fb.filterbank_response(inputs, w_tight)\n",
    "            if penalization == 'mse':\n",
    "                loss = mse(outputs, targets)\n",
    "                loss.backward()\n",
    "                optimizer.step()\n",
    "                running_loss += loss.item()\n",
    "            if penalization == 'kappa':\n",
    "                w = baseline.psi.weight[:,0,:]\n",
    "                loss = criterion(outputs, targets, w)\n",
    "                loss.backward()\n",
    "                optimizer.step()\n",
    "                loss2 = mse(outputs, targets)\n",
    "                running_loss += loss2.item()\n",
    "            if penalization == 'frameop':\n",
    "                # use this loss only every 10th iteration\n",
    "                if np.mod(i,10) == 0:\n",
    "                    w = baseline.psi.weight[:,0,:]\n",
    "                    loss = criterion(outputs, targets, w)\n",
    "                    loss.backward()\n",
    "                    optimizer.step()\n",
    "                else:\n",
    "                    loss = mse(outputs, targets)\n",
    "                    loss.backward()\n",
    "                    optimizer.step()                \n",
    "                    loss2 = mse(outputs, targets)\n",
    "                    running_loss += loss2.item()\n",
    "        losses.append(running_loss)\n",
    "        w = baseline.psi.weight.detach().numpy()[:,0,:]\n",
    "        w = np.concatenate((w,np.zeros([spec[\"J\"], spec[\"N\"]-spec[\"T\"]])),axis=1)\n",
    "        A,B = fb.frame_bounds_lp(w)\n",
    "        conditions.append(B/A)\n",
    "        print(1000 * running_loss)\n",
    "\n",
    "    return losses, conditions"
   ]
  },
  {
   "cell_type": "code",
   "execution_count": 12,
   "metadata": {},
   "outputs": [
    {
     "name": "stdout",
     "output_type": "stream",
     "text": [
      "58.958468318451196\n"
     ]
    },
    {
     "name": "stderr",
     "output_type": "stream",
     "text": [
      "100%|██████████| 50/50 [00:01<00:00, 33.62it/s]\n"
     ]
    },
    {
     "name": "stdout",
     "output_type": "stream",
     "text": [
      "35.98455953761004\n"
     ]
    },
    {
     "name": "stderr",
     "output_type": "stream",
     "text": [
      "100%|██████████| 50/50 [00:01<00:00, 34.04it/s]\n"
     ]
    },
    {
     "name": "stdout",
     "output_type": "stream",
     "text": [
      "21.49447551346384\n"
     ]
    },
    {
     "name": "stderr",
     "output_type": "stream",
     "text": [
      "100%|██████████| 50/50 [00:02<00:00, 24.76it/s]\n"
     ]
    },
    {
     "name": "stdout",
     "output_type": "stream",
     "text": [
      "16.45480823935941\n"
     ]
    },
    {
     "name": "stderr",
     "output_type": "stream",
     "text": [
      "100%|██████████| 50/50 [00:01<00:00, 28.27it/s]\n"
     ]
    },
    {
     "name": "stdout",
     "output_type": "stream",
     "text": [
      "16.38654203270562\n"
     ]
    },
    {
     "name": "stderr",
     "output_type": "stream",
     "text": [
      "100%|██████████| 50/50 [00:01<00:00, 32.45it/s]\n"
     ]
    },
    {
     "name": "stdout",
     "output_type": "stream",
     "text": [
      "15.965215148753487\n"
     ]
    },
    {
     "name": "stderr",
     "output_type": "stream",
     "text": [
      "100%|██████████| 50/50 [00:01<00:00, 31.58it/s]\n"
     ]
    },
    {
     "name": "stdout",
     "output_type": "stream",
     "text": [
      "15.271526222932152\n"
     ]
    },
    {
     "name": "stderr",
     "output_type": "stream",
     "text": [
      "100%|██████████| 50/50 [00:01<00:00, 25.60it/s]\n"
     ]
    },
    {
     "name": "stdout",
     "output_type": "stream",
     "text": [
      "14.73248066031374\n"
     ]
    },
    {
     "name": "stderr",
     "output_type": "stream",
     "text": [
      "100%|██████████| 50/50 [00:01<00:00, 34.41it/s]\n"
     ]
    },
    {
     "name": "stdout",
     "output_type": "stream",
     "text": [
      "14.796347750234418\n"
     ]
    },
    {
     "name": "stderr",
     "output_type": "stream",
     "text": [
      "100%|██████████| 50/50 [00:01<00:00, 27.46it/s]\n"
     ]
    },
    {
     "name": "stdout",
     "output_type": "stream",
     "text": [
      "14.768032473511994\n"
     ]
    },
    {
     "name": "stderr",
     "output_type": "stream",
     "text": [
      "100%|██████████| 50/50 [00:01<00:00, 25.59it/s]\n"
     ]
    },
    {
     "name": "stdout",
     "output_type": "stream",
     "text": [
      "14.87212056235876\n",
      "57.106191641651094\n"
     ]
    },
    {
     "name": "stderr",
     "output_type": "stream",
     "text": [
      "100%|██████████| 50/50 [00:01<00:00, 29.75it/s]\n"
     ]
    },
    {
     "name": "stdout",
     "output_type": "stream",
     "text": [
      "50.719978811684996\n"
     ]
    },
    {
     "name": "stderr",
     "output_type": "stream",
     "text": [
      "100%|██████████| 50/50 [00:01<00:00, 28.16it/s]\n"
     ]
    },
    {
     "name": "stdout",
     "output_type": "stream",
     "text": [
      "38.83058903738856\n"
     ]
    },
    {
     "name": "stderr",
     "output_type": "stream",
     "text": [
      "100%|██████████| 50/50 [00:01<00:00, 28.79it/s]\n"
     ]
    },
    {
     "name": "stdout",
     "output_type": "stream",
     "text": [
      "30.029066023416817\n"
     ]
    },
    {
     "name": "stderr",
     "output_type": "stream",
     "text": [
      "100%|██████████| 50/50 [00:02<00:00, 19.81it/s]\n"
     ]
    },
    {
     "name": "stdout",
     "output_type": "stream",
     "text": [
      "25.77952793217264\n"
     ]
    },
    {
     "name": "stderr",
     "output_type": "stream",
     "text": [
      "100%|██████████| 50/50 [00:02<00:00, 21.44it/s]\n"
     ]
    },
    {
     "name": "stdout",
     "output_type": "stream",
     "text": [
      "24.71452543977648\n"
     ]
    },
    {
     "name": "stderr",
     "output_type": "stream",
     "text": [
      "100%|██████████| 50/50 [00:02<00:00, 23.48it/s]\n"
     ]
    },
    {
     "name": "stdout",
     "output_type": "stream",
     "text": [
      "25.72200068971142\n"
     ]
    },
    {
     "name": "stderr",
     "output_type": "stream",
     "text": [
      "100%|██████████| 50/50 [00:02<00:00, 21.73it/s]\n"
     ]
    },
    {
     "name": "stdout",
     "output_type": "stream",
     "text": [
      "27.7288002835121\n"
     ]
    },
    {
     "name": "stderr",
     "output_type": "stream",
     "text": [
      "100%|██████████| 50/50 [00:02<00:00, 23.29it/s]\n"
     ]
    },
    {
     "name": "stdout",
     "output_type": "stream",
     "text": [
      "30.327821208629757\n"
     ]
    },
    {
     "name": "stderr",
     "output_type": "stream",
     "text": [
      "100%|██████████| 50/50 [00:01<00:00, 28.39it/s]\n"
     ]
    },
    {
     "name": "stdout",
     "output_type": "stream",
     "text": [
      "32.539585925405845\n"
     ]
    },
    {
     "name": "stderr",
     "output_type": "stream",
     "text": [
      "100%|██████████| 50/50 [00:01<00:00, 30.22it/s]\n"
     ]
    },
    {
     "name": "stdout",
     "output_type": "stream",
     "text": [
      "35.72706980048679\n",
      "62.0127139845863\n"
     ]
    },
    {
     "name": "stderr",
     "output_type": "stream",
     "text": [
      "100%|██████████| 50/50 [00:05<00:00,  8.86it/s]\n"
     ]
    },
    {
     "name": "stdout",
     "output_type": "stream",
     "text": [
      "45.72954005561769\n"
     ]
    },
    {
     "name": "stderr",
     "output_type": "stream",
     "text": [
      "100%|██████████| 50/50 [00:05<00:00,  8.86it/s]\n"
     ]
    },
    {
     "name": "stdout",
     "output_type": "stream",
     "text": [
      "33.64190654247068\n"
     ]
    },
    {
     "name": "stderr",
     "output_type": "stream",
     "text": [
      "100%|██████████| 50/50 [00:06<00:00,  8.13it/s]\n"
     ]
    },
    {
     "name": "stdout",
     "output_type": "stream",
     "text": [
      "27.472493587993085\n"
     ]
    },
    {
     "name": "stderr",
     "output_type": "stream",
     "text": [
      "100%|██████████| 50/50 [00:07<00:00,  7.14it/s]\n"
     ]
    },
    {
     "name": "stdout",
     "output_type": "stream",
     "text": [
      "26.544301043031737\n"
     ]
    },
    {
     "name": "stderr",
     "output_type": "stream",
     "text": [
      "100%|██████████| 50/50 [00:07<00:00,  6.34it/s]\n"
     ]
    },
    {
     "name": "stdout",
     "output_type": "stream",
     "text": [
      "28.060524899046868\n"
     ]
    },
    {
     "name": "stderr",
     "output_type": "stream",
     "text": [
      "100%|██████████| 50/50 [00:07<00:00,  6.54it/s]\n"
     ]
    },
    {
     "name": "stdout",
     "output_type": "stream",
     "text": [
      "30.09122604271397\n"
     ]
    },
    {
     "name": "stderr",
     "output_type": "stream",
     "text": [
      "100%|██████████| 50/50 [00:06<00:00,  7.44it/s]\n"
     ]
    },
    {
     "name": "stdout",
     "output_type": "stream",
     "text": [
      "33.6167918285355\n"
     ]
    },
    {
     "name": "stderr",
     "output_type": "stream",
     "text": [
      "100%|██████████| 50/50 [00:07<00:00,  6.96it/s]\n"
     ]
    },
    {
     "name": "stdout",
     "output_type": "stream",
     "text": [
      "35.75118927983567\n"
     ]
    },
    {
     "name": "stderr",
     "output_type": "stream",
     "text": [
      "100%|██████████| 50/50 [00:06<00:00,  7.54it/s]\n"
     ]
    },
    {
     "name": "stdout",
     "output_type": "stream",
     "text": [
      "41.30790999624878\n"
     ]
    },
    {
     "name": "stderr",
     "output_type": "stream",
     "text": [
      "100%|██████████| 50/50 [00:05<00:00,  8.38it/s]"
     ]
    },
    {
     "name": "stdout",
     "output_type": "stream",
     "text": [
      "43.372999352868646\n"
     ]
    },
    {
     "name": "stderr",
     "output_type": "stream",
     "text": [
      "\n"
     ]
    }
   ],
   "source": [
    "n_epochs = 10\n",
    "epoch_size = 50\n",
    "lr = 0.0001\n",
    "\n",
    "baseline = TDFilterbank_real(spec, w_init)\n",
    "losses_mse, conditions_mse = train(\n",
    "    baseline=baseline,\n",
    "    penalization='mse',\n",
    "    lr=lr,\n",
    "    n_epochs=n_epochs,\n",
    "    epoch_size=epoch_size)\n",
    "\n",
    "baseline = TDFilterbank_real(spec, w_init)\n",
    "losses_kappa, conditions_kappa = train(\n",
    "    baseline=baseline,\n",
    "    penalization='kappa',\n",
    "    lr=lr,\n",
    "    n_epochs=n_epochs,\n",
    "    epoch_size=epoch_size)\n",
    "\n",
    "baseline = TDFilterbank_real(spec, w_init)\n",
    "losses_fo, conditions_fo = train(\n",
    "    baseline=baseline,\n",
    "    penalization='frameop',\n",
    "    lr=lr,\n",
    "    n_epochs=n_epochs,\n",
    "    epoch_size=epoch_size)"
   ]
  },
  {
   "cell_type": "code",
   "execution_count": 9,
   "metadata": {},
   "outputs": [
    {
     "data": {
      "image/png": "[encoded data removed]",
      "text/plain": [
       "<Figure size 600x400 with 2 Axes>"
      ]
     },
     "metadata": {},
     "output_type": "display_data"
    }
   ],
   "source": [
    "# plot losses and condition numbers over epochs\n",
    "\n",
    "plt.rcParams['text.usetex'] = False\n",
    "\n",
    "fig, axes = plt.subplots(2, 1, figsize=(6, 4), sharex=True)\n",
    "Ts = np.arange(0, n_epochs+1)\n",
    "\n",
    "ax = axes[0]\n",
    "ax.plot(Ts, losses_mse, 'tab:blue', linewidth=2)\n",
    "ax.plot(Ts, losses_kappa, 'tab:green', linewidth=2)\n",
    "ax.plot(Ts, losses_fo, 'tab:orange', linewidth=2)\n",
    "\n",
    "ax.set_title('Losses')\n",
    "ax.grid(linestyle='--', alpha=0.5)\n",
    "\n",
    "ax = axes[1]\n",
    "ax.plot(Ts, conditions_mse, 'tab:blue', linewidth=2, label='MSE')\n",
    "ax.plot(Ts, conditions_kappa, 'tab:green', linewidth=2, label='Kappa')\n",
    "ax.plot(Ts, conditions_fo, 'tab:orange', linewidth=2, label='Frameoperator')\n",
    "ax.plot(Ts, np.ones(len(Ts)), 'tab:red', linewidth=2, label='Tightened', linestyle='--')\n",
    "\n",
    "ax.set_title('Condition numbers')\n",
    "ax.legend(loc='upper right')\n",
    "ax.set_xlabel('Epochs')\n",
    "ax.grid(linestyle='--', alpha=0.5)\n",
    "\n",
    "plt.tight_layout()\n",
    "\n",
    "plt.savefig('Reproducing_Random_Tightness.pdf', bbox_inches='tight')"
   ]
  },
  {
   "cell_type": "code",
   "execution_count": null,
   "metadata": {},
   "outputs": [],
   "source": []
  }
 ],
 "metadata": {
  "kernelspec": {
   "display_name": "alpharect",
   "language": "python",
   "name": "python3"
  },
  "language_info": {
   "codemirror_mode": {
    "name": "ipython",
    "version": 3
   },
   "file_extension": ".py",
   "mimetype": "text/x-python",
   "name": "python",
   "nbconvert_exporter": "python",
   "pygments_lexer": "ipython3",
   "version": "3.8.16"
  },
  "orig_nbformat": 4,
  "vscode": {
   "interpreter": {
    "hash": "69599b8b230edd595963a4c28761c9972651de0c85749bedb88c2c1597573974"
   }
  }
 },
 "nbformat": 4,
 "nbformat_minor": 2
}
