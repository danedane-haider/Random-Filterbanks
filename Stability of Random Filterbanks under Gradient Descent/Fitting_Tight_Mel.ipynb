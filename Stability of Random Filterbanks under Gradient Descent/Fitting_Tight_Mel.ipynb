{
 "cells": [
  {
   "cell_type": "code",
   "execution_count": 1,
   "metadata": {},
   "outputs": [],
   "source": [
    "import numpy as np\n",
    "import torch\n",
    "%matplotlib inline\n",
    "from matplotlib import pyplot as plt\n",
    "import tqdm\n",
    "import torch.nn.functional as F\n",
    "import torch.nn as nn\n",
    "import pickle\n",
    "import fb_utils as fb\n",
    "from torch.utils.data import DataLoader\n",
    "import random\n",
    "import os\n",
    "\n",
    "from model import TDFilterbank\n",
    "from dataset import NTVOW\n",
    "from losses import KappaLoss"
   ]
  },
  {
   "cell_type": "code",
   "execution_count": 2,
   "metadata": {},
   "outputs": [],
   "source": [
    "# set seed\n",
    "torch.manual_seed(0)\n",
    "torch.backends.cudnn.deterministic = True\n",
    "torch.backends.cudnn.benchmark = False\n",
    "random.seed(0)\n",
    "np.random.seed(0)\n"
   ]
  },
  {
   "cell_type": "code",
   "execution_count": 3,
   "metadata": {},
   "outputs": [],
   "source": [
    "config = {\n",
    "        \"N\": 4095,\n",
    "        \"J\": 42,\n",
    "        \"T\": 1024,\n",
    "        \"sr\": 16000,\n",
    "        \"fmin\": 64,\n",
    "        \"fmax\": 8000,\n",
    "        \"stride\": 585,\n",
    "        \"batch_size\": 64,\n",
    "        \"epochs\": 10,\n",
    "    }\n",
    "\n",
    "data_dir=\"/Users/felixperfler/Documents/ISF/Random-Filterbanks/NTVOW\"\n",
    "\n",
    "random_filterbank = fb.random_filterbank(config[\"N\"], config[\"J\"], config[\"T\"], tight=False, support_only=True)\n",
    "target = 'MEL'\n",
    "# get current working directory of file\n",
    "cwd = os.path.abspath('')\n",
    "\n",
    "with open(cwd+'/targets/'+target+'.pkl', 'rb') as fp:\n",
    "    target_filterbank = pickle.load(fp)[\"freqz\"]\n",
    "    target_filterbank = torch.from_numpy(target_filterbank.T)\n",
    "\n",
    "# device = 'cuda' if torch.cuda.is_available() else 'mps' if torch.backends.mps.is_available() else 'cpu'\n",
    "device = 'cpu'"
   ]
  },
  {
   "cell_type": "code",
   "execution_count": 4,
   "metadata": {},
   "outputs": [
    {
     "data": {
      "text/plain": [
       "TDFilterbank(\n",
       "  (psi): Conv1d(1, 42, kernel_size=(1024,), stride=(585,), bias=False)\n",
       ")"
      ]
     },
     "execution_count": 4,
     "metadata": {},
     "output_type": "execute_result"
    }
   ],
   "source": [
    "model_baseline = TDFilterbank(config, random_filterbank)\n",
    "model_baseline.to(device)\n",
    "model_kappa = TDFilterbank(config, random_filterbank)\n",
    "model_kappa.to(device)"
   ]
  },
  {
   "cell_type": "code",
   "execution_count": 5,
   "metadata": {},
   "outputs": [],
   "source": [
    "train_dataset = NTVOW(data_dir, 'train', config, target_filterbank)\n",
    "train_loader = DataLoader(train_dataset, batch_size=config[\"batch_size\"], shuffle=True)\n",
    "\n",
    "val_dataset = NTVOW(data_dir, 'val', config, target_filterbank)\n",
    "val_loader = DataLoader(val_dataset, batch_size=config[\"batch_size\"], shuffle=True)"
   ]
  },
  {
   "cell_type": "code",
   "execution_count": 6,
   "metadata": {},
   "outputs": [],
   "source": [
    "loss_baseline = KappaLoss(beta=0)\n",
    "loss_kappa = KappaLoss(beta=1e-2)"
   ]
  },
  {
   "cell_type": "code",
   "execution_count": 7,
   "metadata": {},
   "outputs": [],
   "source": [
    "optimizer_baseline = torch.optim.Adam(model_baseline.parameters(), lr=1e-5)\n",
    "optimizer_kappa = torch.optim.Adam(model_kappa.parameters(), lr=1e-5)"
   ]
  },
  {
   "cell_type": "code",
   "execution_count": 8,
   "metadata": {},
   "outputs": [
    {
     "name": "stdout",
     "output_type": "stream",
     "text": [
      "Init condition numbers:\n",
      "\tBaseline condition number 3.02\n",
      "\tKappa condition number 3.02\n",
      "Epoch 1/10:\n",
      "\tBaseline Loss: 0.09 with condition number 3.02\n",
      "\tKappa Loss: 0.10 with condition number 1.80\n",
      "\tBaseline Val Loss: 0.08 with condition number 3.02\n",
      "\tKappa Val Loss: 0.09 with condition number 1.80\n",
      "Epoch 2/10:\n",
      "\tBaseline Loss: 0.09 with condition number 3.02\n",
      "\tKappa Loss: 0.09 with condition number 1.65\n",
      "\tBaseline Val Loss: 0.08 with condition number 3.02\n",
      "\tKappa Val Loss: 0.08 with condition number 1.65\n",
      "Epoch 3/10:\n",
      "\tBaseline Loss: 0.08 with condition number 3.02\n",
      "\tKappa Loss: 0.08 with condition number 1.58\n",
      "\tBaseline Val Loss: 0.07 with condition number 3.02\n",
      "\tKappa Val Loss: 0.08 with condition number 1.58\n",
      "Epoch 4/10:\n",
      "\tBaseline Loss: 0.08 with condition number 3.02\n",
      "\tKappa Loss: 0.08 with condition number 1.51\n",
      "\tBaseline Val Loss: 0.07 with condition number 3.02\n",
      "\tKappa Val Loss: 0.07 with condition number 1.51\n",
      "Epoch 5/10:\n",
      "\tBaseline Loss: 0.07 with condition number 3.02\n",
      "\tKappa Loss: 0.08 with condition number 1.46\n",
      "\tBaseline Val Loss: 0.07 with condition number 3.02\n",
      "\tKappa Val Loss: 0.07 with condition number 1.46\n",
      "Epoch 6/10:\n",
      "\tBaseline Loss: 0.07 with condition number 3.02\n",
      "\tKappa Loss: 0.07 with condition number 1.42\n",
      "\tBaseline Val Loss: 0.07 with condition number 3.02\n",
      "\tKappa Val Loss: 0.07 with condition number 1.42\n",
      "Epoch 7/10:\n",
      "\tBaseline Loss: 0.07 with condition number 3.04\n",
      "\tKappa Loss: 0.07 with condition number 1.38\n",
      "\tBaseline Val Loss: 0.06 with condition number 3.04\n",
      "\tKappa Val Loss: 0.07 with condition number 1.38\n",
      "Epoch 8/10:\n",
      "\tBaseline Loss: 0.07 with condition number 3.13\n",
      "\tKappa Loss: 0.07 with condition number 1.35\n",
      "\tBaseline Val Loss: 0.06 with condition number 3.13\n",
      "\tKappa Val Loss: 0.07 with condition number 1.35\n",
      "Epoch 9/10:\n",
      "\tBaseline Loss: 0.07 with condition number 3.21\n",
      "\tKappa Loss: 0.07 with condition number 1.32\n",
      "\tBaseline Val Loss: 0.06 with condition number 3.21\n",
      "\tKappa Val Loss: 0.07 with condition number 1.32\n",
      "Epoch 10/10:\n",
      "\tBaseline Loss: 0.07 with condition number 3.26\n",
      "\tKappa Loss: 0.07 with condition number 1.30\n",
      "\tBaseline Val Loss: 0.06 with condition number 3.26\n",
      "\tKappa Val Loss: 0.06 with condition number 1.30\n"
     ]
    }
   ],
   "source": [
    "fit_baseline = []\n",
    "fit_val_baseline = []\n",
    "fit_kappa = []\n",
    "fit_val_kappa = []\n",
    "kappa_baseline = []\n",
    "kappa_val_baseline = []\n",
    "kappa_kappa = []\n",
    "kappa_val_kappa = []\n",
    "\n",
    "w = model_baseline.psi.weight.detach().numpy()[:,0,:]\n",
    "w = np.pad(w, ((0,0),(0, config[\"N\"]-config[\"T\"])), constant_values=0)\n",
    "A,B = fb.frame_bounds_lp(w)\n",
    "kappa_baseline.append(B/A)\n",
    "kappa_val_baseline.append(B/A)\n",
    "\n",
    "w = model_kappa.psi.weight.detach().numpy()[:,0,:]\n",
    "w = np.pad(w, ((0,0),(0, config[\"N\"]-config[\"T\"])), constant_values=0)\n",
    "A,B = fb.frame_bounds_lp(w)\n",
    "kappa_kappa.append(B/A)\n",
    "kappa_val_kappa.append(B/A)\n",
    "\n",
    "print(f\"Init condition numbers:\")\n",
    "print(f\"\\tBaseline condition number {kappa_baseline[-1]:.2f}\")\n",
    "print(f\"\\tKappa condition number {kappa_kappa[-1]:.2f}\")\n",
    "\n",
    "for epoch in range(config[\"epochs\"]):\n",
    "    running_loss = 0.0\n",
    "    running_kappa = 0.0\n",
    "\n",
    "    running_val_loss = 0.0\n",
    "    running_val_kappa = 0.0\n",
    "\n",
    "    model_baseline.train()\n",
    "    model_kappa.train()\n",
    "\n",
    "    for batch in train_loader:\n",
    "        x = batch['x'].to(device)\n",
    "        x_out = batch['x_out'].to(device)\n",
    "        \n",
    "        x_out_baseline = model_baseline(x)\n",
    "        base_loss_i, _ = loss_baseline(x_out_baseline, x_out)\n",
    "        \n",
    "        x_out_kappa = model_kappa(x)\n",
    "        w = model_kappa.psi.weight[:,0,:]\n",
    "        w = F.pad(w,(0,config[\"N\"]-config[\"T\"]), value=0)\n",
    "        base_loss_kappa_i, loss_kappa_i = loss_kappa(x_out_kappa, x_out, w)\n",
    "\n",
    "        optimizer_baseline.zero_grad()\n",
    "        base_loss_i.backward()\n",
    "        optimizer_baseline.step()\n",
    "\n",
    "        optimizer_kappa.zero_grad()\n",
    "        loss_kappa_i.backward()\n",
    "        optimizer_kappa.step()\n",
    "\n",
    "        running_loss += base_loss_i.item()\n",
    "        running_kappa += base_loss_kappa_i.item()\n",
    "    \n",
    "    model_baseline.eval()\n",
    "    model_kappa.eval()\n",
    "    with torch.no_grad():\n",
    "        for batch in val_loader:\n",
    "            x = batch['x'].to(device)\n",
    "            x_out = batch['x_out'].to(device)\n",
    "            \n",
    "            x_out_baseline = model_baseline(x)\n",
    "            base_loss_i, _ = loss_baseline(x_out_baseline, x_out)\n",
    "            \n",
    "            x_out_kappa = model_kappa(x)\n",
    "            w = model_kappa.psi.weight[:,0,:]\n",
    "            w = F.pad(w,(0,config[\"N\"]-config[\"T\"]), value=0)\n",
    "            base_loss_kappa_i, loss_kappa_i = loss_kappa(x_out_kappa, x_out, w)\n",
    "\n",
    "            running_val_loss += base_loss_i.item()\n",
    "            running_val_kappa += base_loss_kappa_i.item()\n",
    "\n",
    "    w = model_baseline.psi.weight.detach().numpy()[:,0,:]\n",
    "    w = np.pad(w, ((0,0),(0, config[\"N\"]-config[\"T\"])), constant_values=0)\n",
    "    A,B = fb.frame_bounds_lp(w)\n",
    "    kappa_baseline.append(B/A)\n",
    "    \n",
    "    w = model_kappa.psi.weight.detach().numpy()[:,0,:]\n",
    "    w = np.pad(w, ((0,0),(0, config[\"N\"]-config[\"T\"])), constant_values=0)\n",
    "    A,B = fb.frame_bounds_lp(w)\n",
    "    kappa_kappa.append(B/A)\n",
    "\n",
    "    fit_baseline.append(running_loss/len(train_loader))\n",
    "    fit_kappa.append(running_kappa/len(train_loader))\n",
    "\n",
    "    w = model_baseline.psi.weight.detach().numpy()[:,0,:]\n",
    "    w = np.pad(w, ((0,0),(0, config[\"N\"]-config[\"T\"])), constant_values=0)\n",
    "    A,B = fb.frame_bounds_lp(w)\n",
    "    kappa_val_baseline.append(B/A)\n",
    "    \n",
    "    w = model_kappa.psi.weight.detach().numpy()[:,0,:]\n",
    "    w = np.pad(w, ((0,0),(0, config[\"N\"]-config[\"T\"])), constant_values=0)\n",
    "    A,B = fb.frame_bounds_lp(w)\n",
    "    kappa_val_kappa.append(B/A)\n",
    "\n",
    "    fit_val_baseline.append(running_val_loss/len(val_loader))\n",
    "    fit_val_kappa.append(running_val_kappa/len(val_loader))\n",
    "\n",
    "\n",
    "    print(f\"Epoch {epoch+1}/{config['epochs']}:\")\n",
    "    print(f\"\\tBaseline Loss: {fit_baseline[-1]:.2f} with condition number {kappa_baseline[-1]:.2f}\")\n",
    "    print(f\"\\tKappa Loss: {fit_kappa[-1]:.2f} with condition number {kappa_kappa[-1]:.2f}\")\n",
    "    print(f\"\\tBaseline Val Loss: {fit_val_baseline[-1]:.2f} with condition number {kappa_val_baseline[-1]:.2f}\")\n",
    "    print(f\"\\tKappa Val Loss: {fit_val_kappa[-1]:.2f} with condition number {kappa_val_kappa[-1]:.2f}\")\n",
    "\n",
    "    # if fit_kappa[-1] - fit_baseline[-1] > 1e-25:\n",
    "    #     loss_kappa.beta = loss_kappa.beta/2\n",
    "    #     print(f\"\\tDecreasing kappa loss weight to {loss_kappa.beta:.2e}\")\n",
    "    # elif fit_kappa[-1] - fit_baseline[-1] < -1e-25:\n",
    "    #     loss_kappa.beta = loss_kappa.beta*2\n",
    "    #     print(f\"\\tIncreasing kappa loss weight to {loss_kappa.beta:.2e}\")"
   ]
  },
  {
   "cell_type": "code",
   "execution_count": 9,
   "metadata": {},
   "outputs": [
    {
     "data": {
      "image/png": "[encoded data removed]",
      "text/plain": [
       "<Figure size 600x400 with 2 Axes>"
      ]
     },
     "metadata": {},
     "output_type": "display_data"
    }
   ],
   "source": [
    "# plot losses and condition numbers over epochs\n",
    "\n",
    "plt.rcParams['text.usetex'] = False\n",
    "\n",
    "fig, axes = plt.subplots(2, 1, figsize=(6, 4), sharex=True)\n",
    "Ts = np.arange(0, config['epochs']+1)\n",
    "\n",
    "ax = axes[0]\n",
    "ax.plot(Ts[1:], fit_baseline, 'tab:blue', linewidth=2, label='$P(\\Phi)=0$')\n",
    "ax.plot(Ts[1:], fit_kappa, 'tab:green', linewidth=2, label='$P(\\Phi)=\\kappa$')\n",
    "ax.plot(Ts[1:], fit_val_baseline, 'tab:orange', linewidth=2, linestyle='--', label='Val $P(\\Phi)=0$')\n",
    "ax.plot(Ts[1:], fit_val_kappa, 'tab:red', linewidth=2, linestyle='--', label='Val $P(\\Phi)=\\kappa$')\n",
    "\n",
    "ax.set_yscale('log')\n",
    "ax.set_title(target+' Losses')\n",
    "ax.grid(linestyle='--', alpha=0.5)\n",
    "\n",
    "ax = axes[1]\n",
    "ax.plot(Ts, kappa_baseline, 'tab:blue', linewidth=2)\n",
    "ax.plot(Ts, kappa_kappa, 'tab:green', linewidth=2)\n",
    "ax.plot(Ts, kappa_val_baseline, 'tab:orange', linewidth=2, linestyle='--')\n",
    "ax.plot(Ts, kappa_val_kappa, 'tab:red', linewidth=2, linestyle='--')\n",
    "ax.plot(Ts, np.ones(len(Ts)), 'tab:gray', linewidth=2, label='Tightened', linestyle='-.')\n",
    "\n",
    "ax.set_title('Condition numbers')\n",
    "ax.set_xlabel('Epochs')\n",
    "axes[0].legend(loc='upper right')\n",
    "ax.grid(linestyle='--', alpha=0.5)\n",
    "\n",
    "plt.tight_layout()\n"
   ]
  },
  {
   "cell_type": "code",
   "execution_count": 10,
   "metadata": {},
   "outputs": [
    {
     "data": {
      "text/plain": [
       "torch.Size([42, 4095])"
      ]
     },
     "execution_count": 10,
     "metadata": {},
     "output_type": "execute_result"
    }
   ],
   "source": [
    "target_filterbank.shape"
   ]
  },
  {
   "cell_type": "code",
   "execution_count": null,
   "metadata": {},
   "outputs": [],
   "source": []
  }
 ],
 "metadata": {
  "kernelspec": {
   "display_name": "Filterbank_env",
   "language": "python",
   "name": "python3"
  },
  "language_info": {
   "codemirror_mode": {
    "name": "ipython",
    "version": 3
   },
   "file_extension": ".py",
   "mimetype": "text/x-python",
   "name": "python",
   "nbconvert_exporter": "python",
   "pygments_lexer": "ipython3",
   "version": "3.11.6"
  }
 },
 "nbformat": 4,
 "nbformat_minor": 2
}
