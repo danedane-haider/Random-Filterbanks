{
 "cells": [
  {
   "cell_type": "code",
   "execution_count": 1,
   "metadata": {},
   "outputs": [],
   "source": [
    "import numpy as np\n",
    "import torch\n",
    "%matplotlib inline\n",
    "from matplotlib import pyplot as plt\n",
    "import tqdm\n",
    "import torch.nn.functional as F\n",
    "import torch.nn as nn\n",
    "import pickle\n",
    "import fb_utils as fb\n",
    "from torch.utils.data import DataLoader\n",
    "import random\n",
    "import pandas\n",
    "import os\n",
    "\n",
    "from model import TDFilterbank, Classifier\n",
    "from dataset import TinySol\n",
    "from losses import KappaLoss"
   ]
  },
  {
   "cell_type": "code",
   "execution_count": 2,
   "metadata": {},
   "outputs": [],
   "source": [
    "# set seed\n",
    "torch.manual_seed(0)\n",
    "torch.backends.cudnn.deterministic = True\n",
    "torch.backends.cudnn.benchmark = False\n",
    "random.seed(0)\n",
    "np.random.seed(0)"
   ]
  },
  {
   "cell_type": "code",
   "execution_count": 3,
   "metadata": {},
   "outputs": [],
   "source": [
    "config = {\n",
    "        \"N\": 2**12,\n",
    "        \"J\": 96,\n",
    "        \"T\": 1024,\n",
    "        \"sr\": 16000,\n",
    "        \"fmin\": 64,\n",
    "        \"fmax\": 8000,\n",
    "        \"stride\": 512,\n",
    "        \"batch_size\": 64,\n",
    "        \"epochs\": 100,\n",
    "    }\n",
    "\n",
    "info_csv_path=\"/Users/felixperfler/Documents/ISF/Random Filterbanks/TinySOL_metadata.csv\"\n",
    "data_dir=\"/Users/felixperfler/Documents/ISF/Random Filterbanks/TinySOL2020\"\n",
    "# info_csv_path=\"/Users/Dane/Documents/GitHub/Random-Filterbanks/TinySOL_metadata.csv\"\n",
    "# data_dir=\"/Users/Dane/Documents/GitHub/Random-Filterbanks/TinySOL2020\"\n",
    "tiny_sol_csv = '/Users/felixperfler/Documents/ISF/Random Filterbanks/TinySOL_metadata.csv'\n",
    "\n",
    "\n",
    "TinySol_df = pandas.read_csv(tiny_sol_csv)\n",
    "\n",
    "instrument_classes = TinySol_df['Instrument (abbr.)'].unique()\n",
    "# map instrument classes to integers\n",
    "instrument_to_int = {instrument: i for i, instrument in enumerate(instrument_classes)}\n",
    "int_to_instrument = {i: instrument for i, instrument in enumerate(instrument_classes)}\n",
    "\n",
    "\n",
    "random_filterbank = fb.random_filterbank(config[\"N\"], config[\"J\"], config[\"T\"], tight=False, support_only=False)\n",
    "random_filterbank_tight = fb.fir_tight(random_filterbank.numpy(), config[\"T\"], eps=1.01)\n",
    "target = 'VQT'\n",
    "# get current working directory of file\n",
    "cwd = os.path.abspath('')\n",
    "\n",
    "with open(cwd+'/targets/'+target+'.pkl', 'rb') as fp:\n",
    "    target_filterbank = pickle.load(fp)[\"freqz\"]\n",
    "    target_filterbank = torch.from_numpy(target_filterbank.T)\n"
   ]
  },
  {
   "cell_type": "code",
   "execution_count": 4,
   "metadata": {},
   "outputs": [],
   "source": [
    "classifier = Classifier(num_classes=len(instrument_classes))\n",
    "\n",
    "loss = nn.CrossEntropyLoss()\n",
    "\n",
    "train_dataset = TinySol(info_csv_path, data_dir, config, target_filterbank, 'train')\n",
    "train_loader = DataLoader(train_dataset, batch_size=config[\"batch_size\"], shuffle=True, num_workers=4)\n",
    "\n",
    "val_dataset = TinySol(info_csv_path, data_dir, config, target_filterbank, 'val')\n",
    "val_loader = DataLoader(val_dataset, batch_size=config[\"batch_size\"], shuffle=True, num_workers=4)\n",
    "\n",
    "optimizer = torch.optim.Adam(classifier.parameters(), lr=1e-3)"
   ]
  },
  {
   "cell_type": "code",
   "execution_count": 6,
   "metadata": {},
   "outputs": [
    {
     "name": "stdout",
     "output_type": "stream",
     "text": [
      "torch.Size([64, 96, 8])\n"
     ]
    },
    {
     "ename": "RuntimeError",
     "evalue": "mat1 and mat2 shapes cannot be multiplied (6144x8 and 96x128)",
     "output_type": "error",
     "traceback": [
      "\u001b[0;31m---------------------------------------------------------------------------\u001b[0m",
      "\u001b[0;31mRuntimeError\u001b[0m                              Traceback (most recent call last)",
      "\u001b[1;32m/Users/felixperfler/Documents/ISF/Random Filterbanks/Stability of Random Filterbanks under Gradient Descent/Advisarial_Fitting_VQT.ipynb Cell 5\u001b[0m line \u001b[0;36m9\n\u001b[1;32m      <a href='vscode-notebook-cell:/Users/felixperfler/Documents/ISF/Random%20Filterbanks/Stability%20of%20Random%20Filterbanks%20under%20Gradient%20Descent/Advisarial_Fitting_VQT.ipynb#X10sZmlsZQ%3D%3D?line=6'>7</a>\u001b[0m optimizer\u001b[39m.\u001b[39mzero_grad()\n\u001b[1;32m      <a href='vscode-notebook-cell:/Users/felixperfler/Documents/ISF/Random%20Filterbanks/Stability%20of%20Random%20Filterbanks%20under%20Gradient%20Descent/Advisarial_Fitting_VQT.ipynb#X10sZmlsZQ%3D%3D?line=7'>8</a>\u001b[0m \u001b[39mprint\u001b[39m(x\u001b[39m.\u001b[39mshape)\n\u001b[0;32m----> <a href='vscode-notebook-cell:/Users/felixperfler/Documents/ISF/Random%20Filterbanks/Stability%20of%20Random%20Filterbanks%20under%20Gradient%20Descent/Advisarial_Fitting_VQT.ipynb#X10sZmlsZQ%3D%3D?line=8'>9</a>\u001b[0m instrument_pred \u001b[39m=\u001b[39m classifier(x)\n\u001b[1;32m     <a href='vscode-notebook-cell:/Users/felixperfler/Documents/ISF/Random%20Filterbanks/Stability%20of%20Random%20Filterbanks%20under%20Gradient%20Descent/Advisarial_Fitting_VQT.ipynb#X10sZmlsZQ%3D%3D?line=9'>10</a>\u001b[0m l \u001b[39m=\u001b[39m loss(instrument_pred, instrument_target)\n\u001b[1;32m     <a href='vscode-notebook-cell:/Users/felixperfler/Documents/ISF/Random%20Filterbanks/Stability%20of%20Random%20Filterbanks%20under%20Gradient%20Descent/Advisarial_Fitting_VQT.ipynb#X10sZmlsZQ%3D%3D?line=10'>11</a>\u001b[0m l\u001b[39m.\u001b[39mbackward()\n",
      "File \u001b[0;32m~/Library/miniconda3/envs/Filterbank_env/lib/python3.11/site-packages/torch/nn/modules/module.py:1518\u001b[0m, in \u001b[0;36mModule._wrapped_call_impl\u001b[0;34m(self, *args, **kwargs)\u001b[0m\n\u001b[1;32m   1516\u001b[0m     \u001b[39mreturn\u001b[39;00m \u001b[39mself\u001b[39m\u001b[39m.\u001b[39m_compiled_call_impl(\u001b[39m*\u001b[39margs, \u001b[39m*\u001b[39m\u001b[39m*\u001b[39mkwargs)  \u001b[39m# type: ignore[misc]\u001b[39;00m\n\u001b[1;32m   1517\u001b[0m \u001b[39melse\u001b[39;00m:\n\u001b[0;32m-> 1518\u001b[0m     \u001b[39mreturn\u001b[39;00m \u001b[39mself\u001b[39;49m\u001b[39m.\u001b[39;49m_call_impl(\u001b[39m*\u001b[39;49margs, \u001b[39m*\u001b[39;49m\u001b[39m*\u001b[39;49mkwargs)\n",
      "File \u001b[0;32m~/Library/miniconda3/envs/Filterbank_env/lib/python3.11/site-packages/torch/nn/modules/module.py:1527\u001b[0m, in \u001b[0;36mModule._call_impl\u001b[0;34m(self, *args, **kwargs)\u001b[0m\n\u001b[1;32m   1522\u001b[0m \u001b[39m# If we don't have any hooks, we want to skip the rest of the logic in\u001b[39;00m\n\u001b[1;32m   1523\u001b[0m \u001b[39m# this function, and just call forward.\u001b[39;00m\n\u001b[1;32m   1524\u001b[0m \u001b[39mif\u001b[39;00m \u001b[39mnot\u001b[39;00m (\u001b[39mself\u001b[39m\u001b[39m.\u001b[39m_backward_hooks \u001b[39mor\u001b[39;00m \u001b[39mself\u001b[39m\u001b[39m.\u001b[39m_backward_pre_hooks \u001b[39mor\u001b[39;00m \u001b[39mself\u001b[39m\u001b[39m.\u001b[39m_forward_hooks \u001b[39mor\u001b[39;00m \u001b[39mself\u001b[39m\u001b[39m.\u001b[39m_forward_pre_hooks\n\u001b[1;32m   1525\u001b[0m         \u001b[39mor\u001b[39;00m _global_backward_pre_hooks \u001b[39mor\u001b[39;00m _global_backward_hooks\n\u001b[1;32m   1526\u001b[0m         \u001b[39mor\u001b[39;00m _global_forward_hooks \u001b[39mor\u001b[39;00m _global_forward_pre_hooks):\n\u001b[0;32m-> 1527\u001b[0m     \u001b[39mreturn\u001b[39;00m forward_call(\u001b[39m*\u001b[39;49margs, \u001b[39m*\u001b[39;49m\u001b[39m*\u001b[39;49mkwargs)\n\u001b[1;32m   1529\u001b[0m \u001b[39mtry\u001b[39;00m:\n\u001b[1;32m   1530\u001b[0m     result \u001b[39m=\u001b[39m \u001b[39mNone\u001b[39;00m\n",
      "File \u001b[0;32m~/Documents/ISF/Random Filterbanks/Stability of Random Filterbanks under Gradient Descent/model.py:39\u001b[0m, in \u001b[0;36mClassifier.forward\u001b[0;34m(self, x)\u001b[0m\n\u001b[1;32m     38\u001b[0m \u001b[39mdef\u001b[39;00m \u001b[39mforward\u001b[39m(\u001b[39mself\u001b[39m, x):\n\u001b[0;32m---> 39\u001b[0m     x \u001b[39m=\u001b[39m F\u001b[39m.\u001b[39msigmoid(\u001b[39mself\u001b[39;49m\u001b[39m.\u001b[39;49mfc1(x))\n\u001b[1;32m     40\u001b[0m     x \u001b[39m=\u001b[39m F\u001b[39m.\u001b[39msoftmax(\u001b[39mself\u001b[39m\u001b[39m.\u001b[39mfc2(x))\n\u001b[1;32m     41\u001b[0m     \u001b[39mreturn\u001b[39;00m x\n",
      "File \u001b[0;32m~/Library/miniconda3/envs/Filterbank_env/lib/python3.11/site-packages/torch/nn/modules/module.py:1518\u001b[0m, in \u001b[0;36mModule._wrapped_call_impl\u001b[0;34m(self, *args, **kwargs)\u001b[0m\n\u001b[1;32m   1516\u001b[0m     \u001b[39mreturn\u001b[39;00m \u001b[39mself\u001b[39m\u001b[39m.\u001b[39m_compiled_call_impl(\u001b[39m*\u001b[39margs, \u001b[39m*\u001b[39m\u001b[39m*\u001b[39mkwargs)  \u001b[39m# type: ignore[misc]\u001b[39;00m\n\u001b[1;32m   1517\u001b[0m \u001b[39melse\u001b[39;00m:\n\u001b[0;32m-> 1518\u001b[0m     \u001b[39mreturn\u001b[39;00m \u001b[39mself\u001b[39;49m\u001b[39m.\u001b[39;49m_call_impl(\u001b[39m*\u001b[39;49margs, \u001b[39m*\u001b[39;49m\u001b[39m*\u001b[39;49mkwargs)\n",
      "File \u001b[0;32m~/Library/miniconda3/envs/Filterbank_env/lib/python3.11/site-packages/torch/nn/modules/module.py:1527\u001b[0m, in \u001b[0;36mModule._call_impl\u001b[0;34m(self, *args, **kwargs)\u001b[0m\n\u001b[1;32m   1522\u001b[0m \u001b[39m# If we don't have any hooks, we want to skip the rest of the logic in\u001b[39;00m\n\u001b[1;32m   1523\u001b[0m \u001b[39m# this function, and just call forward.\u001b[39;00m\n\u001b[1;32m   1524\u001b[0m \u001b[39mif\u001b[39;00m \u001b[39mnot\u001b[39;00m (\u001b[39mself\u001b[39m\u001b[39m.\u001b[39m_backward_hooks \u001b[39mor\u001b[39;00m \u001b[39mself\u001b[39m\u001b[39m.\u001b[39m_backward_pre_hooks \u001b[39mor\u001b[39;00m \u001b[39mself\u001b[39m\u001b[39m.\u001b[39m_forward_hooks \u001b[39mor\u001b[39;00m \u001b[39mself\u001b[39m\u001b[39m.\u001b[39m_forward_pre_hooks\n\u001b[1;32m   1525\u001b[0m         \u001b[39mor\u001b[39;00m _global_backward_pre_hooks \u001b[39mor\u001b[39;00m _global_backward_hooks\n\u001b[1;32m   1526\u001b[0m         \u001b[39mor\u001b[39;00m _global_forward_hooks \u001b[39mor\u001b[39;00m _global_forward_pre_hooks):\n\u001b[0;32m-> 1527\u001b[0m     \u001b[39mreturn\u001b[39;00m forward_call(\u001b[39m*\u001b[39;49margs, \u001b[39m*\u001b[39;49m\u001b[39m*\u001b[39;49mkwargs)\n\u001b[1;32m   1529\u001b[0m \u001b[39mtry\u001b[39;00m:\n\u001b[1;32m   1530\u001b[0m     result \u001b[39m=\u001b[39m \u001b[39mNone\u001b[39;00m\n",
      "File \u001b[0;32m~/Library/miniconda3/envs/Filterbank_env/lib/python3.11/site-packages/torch/nn/modules/linear.py:114\u001b[0m, in \u001b[0;36mLinear.forward\u001b[0;34m(self, input)\u001b[0m\n\u001b[1;32m    113\u001b[0m \u001b[39mdef\u001b[39;00m \u001b[39mforward\u001b[39m(\u001b[39mself\u001b[39m, \u001b[39minput\u001b[39m: Tensor) \u001b[39m-\u001b[39m\u001b[39m>\u001b[39m Tensor:\n\u001b[0;32m--> 114\u001b[0m     \u001b[39mreturn\u001b[39;00m F\u001b[39m.\u001b[39;49mlinear(\u001b[39minput\u001b[39;49m, \u001b[39mself\u001b[39;49m\u001b[39m.\u001b[39;49mweight, \u001b[39mself\u001b[39;49m\u001b[39m.\u001b[39;49mbias)\n",
      "\u001b[0;31mRuntimeError\u001b[0m: mat1 and mat2 shapes cannot be multiplied (6144x8 and 96x128)"
     ]
    }
   ],
   "source": [
    "for epoch in range(config[\"epochs\"]):\n",
    "\n",
    "    for batch in train_loader:\n",
    "        x = batch['x_out']\n",
    "        instrument_target = batch['instrument_vec']\n",
    "\n",
    "        optimizer.zero_grad()\n",
    "        print(x.shape)\n",
    "        instrument_pred = classifier(x)\n",
    "        l = loss(instrument_pred, instrument_target)\n",
    "        l.backward()\n",
    "        optimizer.step()\n",
    "\n",
    "        print(l.item())\n",
    "\n",
    "    for batch in val_loader:\n",
    "        x = batch['x_out']\n",
    "        instrument_target = batch['instrument_vec']\n",
    "\n",
    "        instrument_pred = classifier(x)\n",
    "        l = loss(instrument_pred, instrument_target)\n",
    "        instrument = torch.argmax(instrument_pred, dim=1)\n",
    "        print(int_to_instrument[instrument[0].item()])\n",
    "\n",
    "        print(l.item())\n",
    "        \n",
    "\n",
    "        "
   ]
  },
  {
   "cell_type": "code",
   "execution_count": null,
   "metadata": {},
   "outputs": [],
   "source": []
  }
 ],
 "metadata": {
  "kernelspec": {
   "display_name": "Filterbank_env",
   "language": "python",
   "name": "python3"
  },
  "language_info": {
   "codemirror_mode": {
    "name": "ipython",
    "version": 3
   },
   "file_extension": ".py",
   "mimetype": "text/x-python",
   "name": "python",
   "nbconvert_exporter": "python",
   "pygments_lexer": "ipython3",
   "version": "3.11.6"
  }
 },
 "nbformat": 4,
 "nbformat_minor": 2
}
