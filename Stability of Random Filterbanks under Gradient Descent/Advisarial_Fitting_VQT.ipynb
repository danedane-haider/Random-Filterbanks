{
 "cells": [
  {
   "cell_type": "code",
   "execution_count": 2,
   "metadata": {},
   "outputs": [],
   "source": [
    "import numpy as np\n",
    "import torch\n",
    "%matplotlib inline\n",
    "from matplotlib import pyplot as plt\n",
    "import tqdm\n",
    "import torch.nn.functional as F\n",
    "import torch.nn as nn\n",
    "import pickle\n",
    "import fb_utils as fb\n",
    "from torch.utils.data import DataLoader\n",
    "import random\n",
    "import pandas\n",
    "import os\n",
    "\n",
    "from model import TDFilterbank\n",
    "from dataset import TinySol\n",
    "from losses import KappaLoss"
   ]
  },
  {
   "cell_type": "code",
   "execution_count": null,
   "metadata": {},
   "outputs": [],
   "source": [
    "# set seed\n",
    "torch.manual_seed(0)\n",
    "torch.backends.cudnn.deterministic = True\n",
    "torch.backends.cudnn.benchmark = False\n",
    "random.seed(0)\n",
    "np.random.seed(0)"
   ]
  },
  {
   "cell_type": "code",
   "execution_count": 12,
   "metadata": {},
   "outputs": [],
   "source": [
    "\n",
    "tiny_sol_csv = '/Users/felixperfler/Documents/ISF/Random Filterbanks/TinySOL_metadata.csv'\n",
    "TinySol_df = pandas.read_csv(tiny_sol_csv)\n",
    "\n",
    "instrument_classes = TinySol_df['Instrument (abbr.)'].unique()\n",
    "# map instrument classes to integers\n",
    "instrument_to_int = {instrument: i for i, instrument in enumerate(instrument_classes)}\n",
    "int_to_instrument = {i: instrument for i, instrument in enumerate(instrument_classes)}\n"
   ]
  },
  {
   "cell_type": "code",
   "execution_count": null,
   "metadata": {},
   "outputs": [],
   "source": [
    "config = {\n",
    "        \"N\": 2**12,\n",
    "        \"J\": 96,\n",
    "        \"T\": 1024,\n",
    "        \"sr\": 16000,\n",
    "        \"fmin\": 64,\n",
    "        \"fmax\": 8000,\n",
    "        \"stride\": 512,\n",
    "        \"batch_size\": 64,\n",
    "        \"epochs\": 100,\n",
    "    }\n",
    "\n",
    "# info_csv_path=\"/Users/felixperfler/Documents/ISF/Random-Filterbanks/TinySOL_metadata.csv\"\n",
    "# data_dir=\"/Users/felixperfler/Documents/ISF/Random-Filterbanks/TinySOL2020\"\n",
    "info_csv_path=\"/Users/Dane/Documents/GitHub/Random-Filterbanks/TinySOL_metadata.csv\"\n",
    "data_dir=\"/Users/Dane/Documents/GitHub/Random-Filterbanks/TinySOL2020\"\n",
    "\n",
    "\n",
    "random_filterbank = fb.random_filterbank(config[\"N\"], config[\"J\"], config[\"T\"], tight=False, support_only=True)\n",
    "target = 'VQT'\n",
    "# get current working directory of file\n",
    "cwd = os.path.abspath('')\n",
    "\n",
    "with open(cwd+'/targets/'+target+'.pkl', 'rb') as fp:\n",
    "    target_filterbank = pickle.load(fp)[\"freqz\"]\n",
    "    target_filterbank = torch.from_numpy(target_filterbank.T)\n",
    "\n",
    "# device = 'cuda' if torch.cuda.is_available() else 'mps' if torch.backends.mps.is_available() else 'cpu'\n",
    "device = 'cpu'"
   ]
  }
 ],
 "metadata": {
  "kernelspec": {
   "display_name": "Filterbank_env",
   "language": "python",
   "name": "python3"
  },
  "language_info": {
   "codemirror_mode": {
    "name": "ipython",
    "version": 3
   },
   "file_extension": ".py",
   "mimetype": "text/x-python",
   "name": "python",
   "nbconvert_exporter": "python",
   "pygments_lexer": "ipython3",
   "version": "3.11.6"
  }
 },
 "nbformat": 4,
 "nbformat_minor": 2
}
